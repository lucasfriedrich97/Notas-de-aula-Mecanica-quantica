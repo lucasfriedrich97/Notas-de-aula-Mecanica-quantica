{
 "cells": [
  {
   "cell_type": "markdown",
   "id": "72d9f005",
   "metadata": {},
   "source": [
    "# Introdução\n",
    "\n",
    "A equação de Schrödinger é um dos pilares da mecânica quântica. No entanto, sua solução exata só é viável em casos simples, como o átomo de hidrogênio. Para sistemas mais complexos, o problema torna-se intratável devido à complexidade matemática e ao crescimento exponencial do espaço de estados com o número de partículas.\n",
    "\n",
    "Para contornar essa limitação, utilizam-se métodos aproximativos, entre os quais se destaca o **teorema variacional**. Ele estabelece que qualquer estimativa para a energia do estado fundamental, obtida a partir de uma função de onda teste normalizada, será sempre maior ou igual à energia real. Isso permite aproximar a energia verdadeira ajustando-se os parâmetros da função de onda para minimizar o valor esperado da energia.\n",
    "\n",
    "Apesar de eficaz, a aplicação prática do teorema variacional é dificultada pela complexidade matemática envolvida. O uso de computadores auxilia nos cálculos, mas o custo computacional cresce exponencialmente com o tamanho do sistema, o que inviabiliza a aplicação do método no estudo de moléculas maiores e sistemas de interesse prático.\n",
    "\n",
    "Nesse contexto, os **algoritmos quânticos variacionais (VQAs)** surgem como uma abordagem promissora. Eles combinam o poder dos computadores quânticos, que representam naturalmente estados quânticos complexos, com algoritmos clássicos de otimização. Em vez de definir manualmente uma função de onda, os VQAs utilizam circuitos parametrizados cuja estrutura é otimizada, usando o otimizador clássico, para minimizar a energia do sistema.\n",
    "\n",
    "Essa abordagem abre novas perspectivas tanto para a ciência quanto para a indústria, com aplicações como:\n",
    "\n",
    "####  CIÊNCIA\n",
    "\n",
    "**Química quântica**\n",
    "\n",
    "- Estimativa de energia fundamental.\n",
    "\n",
    "\n",
    "- Simulação de reações químicas.\n",
    "\n",
    "\n",
    "- Modelagem de moléculas complexas.\n",
    "\n",
    "\n",
    "- Estudo de estados excitados.\n",
    "\n",
    "**Física da matéria condensada**\n",
    "\n",
    "\n",
    "- Modelagem de sistemas fortemente correlacionados.\n",
    "\n",
    "\n",
    "- Estudo de transições de fase quânticas.\n",
    "\n",
    "**Física de partículas e alta energia**\n",
    "\n",
    "- Simulação de teorias de calibre.\n",
    "\n",
    "**Ciência dos materiais**\n",
    "\n",
    "- Descoberta de materiais com propriedades específicas.\n",
    "\n",
    "\n",
    "- Simulação de defeitos em cristais e interfaces.\n",
    "\n",
    "\n",
    "- Estudo de propriedades eletrônicas e magnéticas.\n",
    "\n",
    "**Biologia computacional**\n",
    "\n",
    "- Modelagem de interações biomoleculares.\n",
    "\n",
    "\n",
    "- Estudo de enovelamento de proteínas.\n",
    "\n",
    "\n",
    "#### INDÚSTRIA\n",
    "\n",
    "**Farmacêutica e biotecnologia**\n",
    "\n",
    "- Descoberta de fármacos.\n",
    "\n",
    "\n",
    "- Criação de novos compostos bioativos.\n",
    "\n",
    "**Energia e meio ambiente**\n",
    "\n",
    "- Otimização de materiais para baterias e células solares.\n",
    "\n",
    "\n",
    "- Análise de redes elétricas via problemas de otimização.\n",
    "\n",
    "**Finanças**\n",
    "\n",
    "- Otimização de portifolio.\n",
    "\n",
    "\n",
    "- Detecção de fraude.\n",
    "\n",
    "**Logística e transporte**\n",
    "\n",
    "- Otimização de rotas e cargas.\n",
    "\n",
    "**Inteligência artificial**\n",
    "\n",
    "- Classificação e regressão.\n",
    "\n",
    "\n",
    "- Geração de dados com modelos generativos quânticos.\n",
    "\n",
    "\n",
    "- Possivel uso de menos dados de treinamento.\n",
    "\n",
    "**E muito mais!**"
   ]
  },
  {
   "cell_type": "markdown",
   "id": "3184ab73",
   "metadata": {},
   "source": [
    "# Computação quântica"
   ]
  },
  {
   "cell_type": "markdown",
   "id": "a958a275",
   "metadata": {},
   "source": [
    "## Motivação"
   ]
  },
  {
   "cell_type": "markdown",
   "id": "2bbfbb3a",
   "metadata": {},
   "source": [
    "O surgimento da computação quântica pode ser analisado sob dois pontos de vista distintos: o físico e o computacional.\n",
    "\n",
    "\n",
    "- Do ponto de vista **físico**, Richard Feynman (figura abaixo) propôs, na década de 1980, o uso de computadores quânticos para **simular sistemas quânticos**. Essa proposta surgiu do reconhecimento de que os computadores clássicos enfrentam grandes dificuldades ao lidar com tais sistemas. Um **computador quântico**, por sua vez, teria maior capacidade de tratá-los, justamente por operar com base nos princípios da mecânica quântica.\n",
    "\n",
    "\n",
    "\n",
    "<img src=\"RichardFeynman.jpg\" width=\"250px\">\n",
    "\n",
    "- Do ponto de vista computacional, a computação quântica pode ser vista como uma consequência da **Lei de Moore**, proposta por Gordon Moore (figura abaixo).\n",
    "\n",
    "<img src=\"Gordon_Moore_1978.png\" width=\"250px\">\n",
    "\n",
    "- A **Lei de Moore** é uma observação empírica que afirma que o número de transistores em um chip dobra a cada dois anos, o que resulta em um aumento contínuo do poder de processamento dos computadores clássicos. Essa tendência está diretamente relacionada à miniaturização dos transistores. No entanto, chegará um ponto em que essa miniaturização atingirá um limite físico, tornando inviável sua continuidade. Nesse estágio, os próprios fenômenos da mecânica quântica passarão a exercer maior influência sobre o comportamento dos transistores do que a mecânica clássica.\n",
    "\n",
    "\n",
    "\n",
    "<img src=\"Moore's_Law_Transistor_Count_1970-2020.png\" width=\"900px\">\n"
   ]
  },
  {
   "cell_type": "markdown",
   "id": "47542ab0",
   "metadata": {},
   "source": [
    "Nos últimos anos, diversos esforços têm sido realizados ao redor do mundo para o desenvolvimento de computadores quânticos. Isso se deve às promissoras aplicações da computação quântica na resolução de problemas que permanecem intratáveis até mesmo para os supercomputadores mais avançados. A figura a seguir apresenta uma estimativa dos investimentos realizados por diferentes países nessa área em 2023, evidenciando que muitos deles — especialmente a China — enxergam na computação quântica um caminho estratégico para enfrentar desafios complexos."
   ]
  },
  {
   "cell_type": "markdown",
   "id": "1f5e8957",
   "metadata": {},
   "source": [
    "<img src=\"Quantum_efforts_2023.png\" width=\"900px\">\n"
   ]
  },
  {
   "cell_type": "markdown",
   "id": "0227dd6c",
   "metadata": {},
   "source": [
    "**Brasil**: Como mostra a figura, o Brasil é um dos países que menos investem nessa tecnologia, apesar de seu potencial. Esse dado reflete uma tendência recorrente do país de ocupar posições inferiores no cenário global de ciência e tecnologia, consequência da ausência de uma política consistente que priorize o desenvolvimento científico e tecnológico.\n"
   ]
  },
  {
   "cell_type": "markdown",
   "id": "1ce23577",
   "metadata": {},
   "source": [
    "## Computação quântica VS computação clássica"
   ]
  },
  {
   "cell_type": "markdown",
   "id": "59e070e0",
   "metadata": {},
   "source": [
    "**Computação clássica**: \n",
    "\n",
    "- Representa a informação usando bits que assumem valores binários (0 ou 1), podendo assumir somente **um valor por vez**.\n",
    "\n",
    "\n",
    "- Manipula os bits usando **portas lógicas**, que operam segundo a lógica booleana.\n",
    "\n",
    "\n",
    "- **Resultados determinísticos**.\n",
    "\n",
    "\n",
    "**Computação quântica**: \n",
    "\n",
    "- Representa a informação usando qubits, que podem assumir os valores binários 0 ou 1, representados aqui pelos estados $|0\\rangle$ e $|1\\rangle$ do qubit. Porém, diferentemente dos bits, o qubit pode estar em uma superposição desses estados, ou seja, pode ser descrito por\n",
    "\n",
    "$$\n",
    "|\\psi \\rangle = \\alpha|0\\rangle + \\beta|1\\rangle,\\tag{1}\n",
    "$$\n",
    "com $ |\\alpha|^2 + |\\beta|^2 = 1 $.\n",
    "\n",
    "\n",
    "- Manipula os qubits usando **portas lógicas quânticas**. \n",
    "\n",
    "\n",
    "- **Resultados probabilísticos**."
   ]
  },
  {
   "cell_type": "markdown",
   "id": "626095a5",
   "metadata": {},
   "source": [
    "A seguir, é apresentada uma ilustração comparativa entre o bit, da computação clássica, e o qubit, da computação quântica. O bit é representado por dois círculos que assumem os valores 0 ou 1, refletindo seu funcionamento binário. Já o qubit é representado por uma esfera, com o estado $|0\\rangle$ localizado no topo e o estado $|1\\rangle$ na base. Essa representação também reflete sua natureza binária, mas com uma diferença fundamental: o qubit pode assumir uma superposição de estados, representada por $|\\psi\\rangle$, ou seja, pode estar simultaneamente nos estados $|0\\rangle$ e $|1\\rangle$. A ilustração destaca ainda o comportamento probabilístico da computação quântica — só é possível acessar as probabilidades de medir o qubit no estado $|0\\rangle$ ou no estado $|1\\rangle$, diferentemente do bit clássico, que está sempre em um único estado definido.\n",
    "\n",
    "<img src=\"Classical-bit-vs-qubit.png\" width=\"900px\">\n"
   ]
  },
  {
   "cell_type": "markdown",
   "id": "80c5fe76",
   "metadata": {},
   "source": [
    "## Computação quântica com 1 qubit"
   ]
  },
  {
   "cell_type": "markdown",
   "id": "79cb1b39",
   "metadata": {},
   "source": [
    "A seguir, iremos começar a estudar como funcionam os algoritmos quânticos, sua descrição matemática e programação. Neste primeiro momento, trabalharemos com um qubit, ou seja, com um computador quântico de um único qubit.\n",
    "\n",
    "Atualmente, existem várias bibliotecas para programação quântica, como ilustrado abaixo. Todavia, aqui utilizaremos a biblioteca conhecida como **Pennylane**."
   ]
  },
  {
   "cell_type": "markdown",
   "id": "e9f60550",
   "metadata": {},
   "source": [
    "<img src=\"Captura%20de%20tela%20de%202025-05-15%2011-20-42.png\" width=\"900px\">\n"
   ]
  },
  {
   "cell_type": "markdown",
   "id": "12980f0a",
   "metadata": {},
   "source": [
    "Caso você ainda não tenha instalado a biblioteca **Pennylane**, pode fazê-lo usando o seguinte comando:"
   ]
  },
  {
   "cell_type": "code",
   "execution_count": null,
   "id": "c2fbe221",
   "metadata": {},
   "outputs": [],
   "source": [
    "pip install pennylane "
   ]
  },
  {
   "cell_type": "markdown",
   "id": "92216f60",
   "metadata": {},
   "source": [
    "Feito isso, podemos importar a biblioteca Pennylane e as demais bibliotecas que utilizaremos neste primeiro momento. Isso é feito a seguir:"
   ]
  },
  {
   "cell_type": "code",
   "execution_count": 1,
   "id": "645e9cdc",
   "metadata": {},
   "outputs": [],
   "source": [
    "import pennylane as qml # importa a biblioteca pennylane\n",
    "import matplotlib.pyplot as plt # usado para plotar gráficos\n",
    "import numpy as np # biblioteca para computação científica e matemática"
   ]
  },
  {
   "cell_type": "markdown",
   "id": "9e549216",
   "metadata": {},
   "source": [
    "Agora, vejamos como criar um algoritmo quântico de 1 qubit usando o Pennylane e, em seguida, como esse circuito é descrito matematicamente.\n",
    "\n",
    "**Primeiro exemplo**: A seguir, está o código que cria nosso primeiro algoritmo quântico."
   ]
  },
  {
   "cell_type": "code",
   "execution_count": 2,
   "id": "16f84274",
   "metadata": {},
   "outputs": [],
   "source": [
    "# Criamos um \"dispositivo quântico virtual\" chamado 'dev'.\n",
    "# Esse dispositivo simula o comportamento de um computador quântico ideal.\n",
    "# 'default.qubit' significa que usaremos um simulador padrão baseado em qubits (unidades quânticas de informação).\n",
    "# wires=1 indica que vamos simular apenas 1 qubit (como se fosse um único \"fio\" no circuito quântico).\n",
    "dev = qml.device('default.qubit', wires=1)\n",
    "\n",
    "# Esta linha conecta a função abaixo com o simulador quântico que acabamos de criar.\n",
    "@qml.qnode(dev)\n",
    "def f():\n",
    "    # Aplicamos uma operação chamada Hadamard no qubit 0.\n",
    "    # Essa operação coloca o qubit em \"superposição\", ou seja,\n",
    "    # ele passa a estar nos dois estados (0 e 1) ao mesmo tempo.\n",
    "    qml.Hadamard(wires=0)\n",
    "    \n",
    "    # Retornamos as probabilidades de obter o valor 0 ou 1 ao medir o qubit.\n",
    "    return qml.probs()\n"
   ]
  },
  {
   "cell_type": "code",
   "execution_count": 3,
   "id": "7793ed92",
   "metadata": {},
   "outputs": [
    {
     "data": {
      "image/png": "[encoded data removed]",
      "text/plain": [
       "<Figure size 400x200 with 1 Axes>"
      ]
     },
     "metadata": {},
     "output_type": "display_data"
    }
   ],
   "source": [
    "# código para plotar uma ilustração do circuito quântico criado pelo algoritmo\n",
    "fig, ax = qml.draw_mpl(f)()\n",
    "plt.show()"
   ]
  },
  {
   "cell_type": "markdown",
   "id": "7055668d",
   "metadata": {},
   "source": [
    "Essa forma visual de representar um algoritmo quântico é conhecida como **notação de circuitos**. Nela, cada qubit é representado por uma linha contínua na horizontal, cada porta lógica quântica é simbolizada por um ícone específico, e as medidas são indicadas por setas dentro de uma caixa ao final do circuito."
   ]
  },
  {
   "cell_type": "code",
   "execution_count": 4,
   "id": "39961d6a",
   "metadata": {},
   "outputs": [
    {
     "data": {
      "text/plain": [
       "tensor([0.5, 0.5], requires_grad=True)"
      ]
     },
     "execution_count": 4,
     "metadata": {},
     "output_type": "execute_result"
    }
   ],
   "source": [
    "f()# Executamos a função f que retorna as probabilidades"
   ]
  },
  {
   "cell_type": "markdown",
   "id": "0384eca4",
   "metadata": {},
   "source": [
    "**Matematicamente, o que está ocorrendo neste algoritmo?**\n",
    "\n",
    "- Primeiramente, iniciamos um qubit no estado $|0\\rangle$, cuja definição é dada a seguir:\n",
    "\n",
    "$$\n",
    "|0\\rangle = \\begin{bmatrix}\n",
    "1  \\\\\n",
    "0 \n",
    "\\end{bmatrix}\\tag{2}\n",
    "$$\n",
    "\n",
    "**OBS**: Por padrão, todos os qubits usados em um algoritmo quântico iniciam nesse estado.\n",
    "\n",
    "- Em seguida, aplicamos uma **porta lógica quântica no qubit**. Especificamente, aqui é usada a porta conhecida como ``Hadamard``, cuja representação matricial é\n",
    "\n",
    "$$\n",
    "H = \\frac{1}{\\sqrt{2}}\\begin{bmatrix}\n",
    "1 & 1  \\\\\n",
    "1 & -1\n",
    "\\end{bmatrix}.\\tag{3}\n",
    "$$\n",
    "\n",
    "Essa porta atua no nosso qubit de modo que\n",
    "\n",
    "$$\n",
    "H|0\\rangle = \\frac{1}{\\sqrt{2}}\\begin{bmatrix}\n",
    "1 & 1  \\\\\n",
    "1 & -1\n",
    "\\end{bmatrix}  \\begin{bmatrix}\n",
    "1  \\\\\n",
    "0 \n",
    "\\end{bmatrix}  = \\frac{1}{\\sqrt{2}} \\begin{bmatrix}\n",
    "1  \\\\\n",
    "1 \n",
    "\\end{bmatrix} = \\frac{1}{\\sqrt{2}}(  |0\\rangle + |1\\rangle ) := |\\psi\\rangle ,\\tag{4}\n",
    "$$\n",
    "onde aqui usamos\n",
    "\n",
    "$$\n",
    "|1\\rangle = \\begin{bmatrix}\n",
    "0  \\\\\n",
    "1 \n",
    "\\end{bmatrix}.\\tag{5}\n",
    "$$\n",
    "\n",
    "**OBS**: Os estado $\\{|0\\rangle,|1\\rangle\\} $ formam uma base **ortonormal** para este qubit.\n",
    "\n",
    "Tendo o nosso estado evoluído $|\\psi\\rangle$, agora realizamos a **medição**, que nos retornará as probabilidades. Essas probabilidades são calculadas usando\n",
    "$$\n",
    "Pr(|j\\rangle,|\\psi\\rangle) = | \\langle j |\\psi\\rangle |^2 = \\langle \\psi | j \\rangle \\langle j | \\psi \\rangle \\tag{6}\n",
    "$$\n",
    "\n",
    "\n",
    "Assim, para o qubit descrito por $|\\psi\\rangle$, teremos que\n",
    "\n",
    "$$\n",
    "Pr(|0\\rangle,|\\psi\\rangle) = |\\langle 0 | \\psi \\rangle|^2 = |\\langle 0 | \\bigg( \\frac{1}{\\sqrt{2}} |0\\rangle + \\frac{1}{\\sqrt{2}} |1\\rangle \\bigg)|^2 = \\bigg|\\frac{1}{\\sqrt{2}} \\langle 0|0\\rangle + \\frac{1}{\\sqrt{2}} \\langle 0 |1\\rangle \\bigg|^2 = \\bigg|\\frac{1}{\\sqrt{2}}\\bigg|^2 = \\frac{1}{2} = 0.5 \\tag{7}\n",
    "$$\n",
    "e\n",
    "\n",
    "$$\n",
    "Pr(|1\\rangle,|\\psi\\rangle) = |\\langle 1 | \\psi \\rangle|^2 = |\\langle 1 | \\bigg( \\frac{1}{\\sqrt{2}} |0\\rangle + \\frac{1}{\\sqrt{2}} |1\\rangle \\bigg)|^2 = \\bigg|\\frac{1}{\\sqrt{2}} \\langle 1|0\\rangle + \\frac{1}{\\sqrt{2}} \\langle 1 |1\\rangle \\bigg|^2 = \\bigg|\\frac{1}{\\sqrt{2}}\\bigg|^2 = \\frac{1}{2} = 0.5. \\tag{8}\n",
    "$$\n",
    "\n",
    "Que é justamente o que a função ``f()`` retorna.\n"
   ]
  },
  {
   "cell_type": "markdown",
   "id": "5f02e05c",
   "metadata": {},
   "source": [
    "---------------------"
   ]
  },
  {
   "cell_type": "markdown",
   "id": "87fe78ad",
   "metadata": {},
   "source": [
    "**Segundo exemplo**: A seguir, está o código que cria nosso segundo algoritmo quântico."
   ]
  },
  {
   "cell_type": "code",
   "execution_count": 5,
   "id": "198a07bc",
   "metadata": {},
   "outputs": [],
   "source": [
    "# Esta linha conecta a função abaixo com o simulador quântico.\n",
    "@qml.qnode(dev)\n",
    "def g():\n",
    "    # Aplicamos uma operação chamada Hadamard no qubit 0.\n",
    "    # Essa operação coloca o qubit em \"superposição\", ou seja,\n",
    "    # ele passa a estar nos dois estados (0 e 1) ao mesmo tempo.\n",
    "    qml.Hadamard(wires=0)\n",
    "    \n",
    "    # Retornamos o valor médio de Z\n",
    "    return qml.expval(qml.PauliZ(0))\n"
   ]
  },
  {
   "cell_type": "code",
   "execution_count": 6,
   "id": "cf51c491",
   "metadata": {},
   "outputs": [
    {
     "data": {
      "image/png": "[encoded data removed]",
      "text/plain": [
       "<Figure size 400x200 with 1 Axes>"
      ]
     },
     "metadata": {},
     "output_type": "display_data"
    }
   ],
   "source": [
    "# código para plotar uma ilustração do circuito quântico criado pelo algoritmo\n",
    "fig, ax = qml.draw_mpl(g)()\n",
    "plt.show()"
   ]
  },
  {
   "cell_type": "code",
   "execution_count": 7,
   "id": "0436eff9",
   "metadata": {},
   "outputs": [
    {
     "data": {
      "text/plain": [
       "tensor(0., requires_grad=True)"
      ]
     },
     "execution_count": 7,
     "metadata": {},
     "output_type": "execute_result"
    }
   ],
   "source": [
    "g() # Executamos a função g que retorna o valor médio de Z, ou seja a matriz de Pauli Z"
   ]
  },
  {
   "cell_type": "markdown",
   "id": "3a3830a6",
   "metadata": {},
   "source": [
    "**Matematicamente, o que está ocorrendo neste algoritmo?**\n",
    "\n",
    "Novamente, nosso qubit inicia no estado $|0\\rangle$ e, em seguida, aplicamos a porta ``Hadamard``. Com isso, obtemos o estado evoluído\n",
    "\n",
    "$$\n",
    "|\\psi\\rangle = \\frac{1}{\\sqrt{2}}(  |0\\rangle + |1\\rangle ). \\tag{9}\n",
    "$$\n",
    "\n",
    "Por fim, temos as medições. Porém, diferentemente do primeiro exemplo, que retorna as probabilidades, neste caso estamos obtendo o seguinte valor médio:\n",
    "\n",
    "$$\n",
    "\\langle Z \\rangle_{\\psi} =  \\langle \\psi |Z| \\psi \\rangle = Tr[Z | \\psi \\rangle \\langle \\psi | ] \\tag{10}\n",
    "$$\n",
    "onde $Z$ é uma das matrizes de Pauli, definida como\n",
    "\n",
    "$$\n",
    "Z := \\sigma_{z} = \\begin{bmatrix}\n",
    "1 & 0  \\\\\n",
    "0 & -1 \n",
    "\\end{bmatrix}. \\tag{11}\n",
    "$$\n",
    "\n",
    "\n",
    "\n",
    "As demais matrizes de Pauli são:\n",
    "\n",
    "$$\n",
    "X := \\sigma_{x} = \\begin{bmatrix}\n",
    "0 & 1  \\\\\n",
    "1 & 0 \n",
    "\\end{bmatrix}\n",
    "\\quad \\text{e} \\quad\n",
    "Y := \\sigma_{y} = \\begin{bmatrix}\n",
    "0 & -i  \\\\\n",
    "i & 0 \n",
    "\\end{bmatrix}. \\tag{12}\n",
    "$$\n"
   ]
  },
  {
   "cell_type": "markdown",
   "id": "37a618b8",
   "metadata": {},
   "source": [
    "**Mas na computação quântica não obtemos somente as probabilidades?** \n",
    "\n",
    "Antes de respondermos a essa pergunta, observe que podemos reescrever $Z$ da seguinte forma:\n",
    "\n",
    "$$\n",
    "Z = |0\\rangle \\langle 0| - |1\\rangle \\langle 1|. \\tag{13}\n",
    "$$\n",
    "\n",
    "Portanto, usando este resultado na Eq. [10], obtemos que:\n",
    "\n",
    "\\begin{equation}\n",
    "\\begin{aligned}\n",
    "\\langle Z \\rangle_{\\psi} & =  \\langle \\psi |Z| \\psi \\rangle \\\\\n",
    "&=  \\langle \\psi |\\big(|0\\rangle \\langle 0| - |1\\rangle \\langle 1|\\big)| \\psi \\rangle  \\\\\n",
    "& = \\langle \\psi | 0 \\rangle \\langle 0 | \\psi \\rangle - \\langle \\psi | 1 \\rangle \\langle 1 | \\psi \\rangle \\\\\n",
    "& = Pr(|0\\rangle,|\\psi\\rangle) - Pr(|1\\rangle,|\\psi\\rangle). \n",
    "\\end{aligned}\n",
    "\\tag{14}\n",
    "\\end{equation}\n",
    "\n",
    "Portanto, o valor médio, neste caso, é a diferença entre as probabilidades obtidas nas Eqs. [7] e [8]. Logo, usando esses resultados, vemos que, de fato, o valor médio, neste caso, é\n",
    "$$\n",
    "\\langle Z \\rangle_{\\psi} = 0. \\tag{15}\n",
    "$$\n",
    "\n"
   ]
  },
  {
   "cell_type": "markdown",
   "id": "3f299ac9",
   "metadata": {},
   "source": [
    "--------------------------\n",
    "\n",
    "Existem várias portas lógicas quânticas que atuam em um qubit além da Hadamard. Porém, três delas se destacam, principalmente quando lidamos com VQAs: as portas de rotação. Como o próprio nome indica, essas portas são usadas para rotacionar o estado de um qubit ao redor de um eixo. Elas são:\n",
    "\n",
    "**Porta RX**: Usada para rotacionar o estado do qubit ao redor do eixo x.\n"
   ]
  },
  {
   "cell_type": "code",
   "execution_count": 8,
   "id": "ad288073",
   "metadata": {},
   "outputs": [],
   "source": [
    "# Esta linha conecta a função abaixo com o simulador quântico.\n",
    "@qml.qnode(dev)\n",
    "def rx(theta):\n",
    "    # Aplicamos uma a porta de rotação RX ao qubit 0, esta porta rotaciona o estado do qubit entorno do eixo x.\n",
    "    qml.RX(theta,wires=0)\n",
    "    # Retornamos o valor médio de Z\n",
    "    return qml.expval(qml.PauliZ(0))\n"
   ]
  },
  {
   "cell_type": "code",
   "execution_count": 9,
   "id": "6616a02b",
   "metadata": {},
   "outputs": [
    {
     "data": {
      "image/png": "[encoded data removed]",
      "text/plain": [
       "<Figure size 400x200 with 1 Axes>"
      ]
     },
     "metadata": {},
     "output_type": "display_data"
    }
   ],
   "source": [
    "# código para plotar uma ilustração do circuito quântico criado pela função rx\n",
    "theta = np.random.random(1)\n",
    "fig, ax = qml.draw_mpl(rx)(theta)\n",
    "plt.show()"
   ]
  },
  {
   "cell_type": "markdown",
   "id": "ee000ca3",
   "metadata": {},
   "source": [
    "Observe que esta porta agora depende de um parâmetro $\\theta$. Esse parâmetro é o ângulo de rotação usado pela porta ``RX``."
   ]
  },
  {
   "cell_type": "markdown",
   "id": "37b94ec2",
   "metadata": {},
   "source": [
    "Na representação matricial, esta porta é definida da seguinte forma:\n",
    "\n",
    "$$\n",
    "RX = RX(\\theta) = \\begin{bmatrix}\n",
    "\\cos(\\theta/2) & -i\\sin(\\theta/2)  \\\\\n",
    "-i\\sin(\\theta/2) & \\cos(\\theta/2) \n",
    "\\end{bmatrix}. \\tag{16}\n",
    "$$"
   ]
  },
  {
   "cell_type": "markdown",
   "id": "73b4ae9f",
   "metadata": {},
   "source": [
    "**Porta RY**: Usada para rotacionar o estado do qubit ao redor do eixo y.\n"
   ]
  },
  {
   "cell_type": "code",
   "execution_count": 10,
   "id": "6b4f6723",
   "metadata": {},
   "outputs": [],
   "source": [
    "# Esta linha conecta a função abaixo com o simulador quântico.\n",
    "@qml.qnode(dev)\n",
    "def ry(theta):\n",
    "    # Aplicamos uma a porta de rotação RY ao qubit 0, esta porta rotaciona o estado do qubit entorno do eixo y.\n",
    "    qml.RY(theta,wires=0)\n",
    "    # Retornamos o valor médio de Z\n",
    "    return qml.expval(qml.PauliZ(0))\n"
   ]
  },
  {
   "cell_type": "code",
   "execution_count": 11,
   "id": "4d3834c8",
   "metadata": {},
   "outputs": [
    {
     "data": {
      "image/png": "[encoded data removed]",
      "text/plain": [
       "<Figure size 400x200 with 1 Axes>"
      ]
     },
     "metadata": {},
     "output_type": "display_data"
    }
   ],
   "source": [
    "# código para plotar uma ilustração do circuito quântico criado pela função ry\n",
    "theta = np.random.random(1)\n",
    "fig, ax = qml.draw_mpl(ry)(theta)\n",
    "plt.show()"
   ]
  },
  {
   "cell_type": "markdown",
   "id": "e13469d9",
   "metadata": {},
   "source": [
    "Na representação matricial, esta porta é definida da seguinte forma:\n",
    "\n",
    "$$\n",
    "RY = RY(\\theta) = \\begin{bmatrix}\n",
    "\\cos(\\theta/2) & -\\sin(\\theta/2)  \\\\\n",
    "\\sin(\\theta/2) & \\cos(\\theta/2) \n",
    "\\end{bmatrix}. \\tag{17}\n",
    "$$"
   ]
  },
  {
   "cell_type": "markdown",
   "id": "216f3995",
   "metadata": {},
   "source": [
    "**Porta RZ**: Usada para rotacionar o estado do qubit ao redor do eixo z.\n"
   ]
  },
  {
   "cell_type": "code",
   "execution_count": 14,
   "id": "493703bb",
   "metadata": {},
   "outputs": [],
   "source": [
    "# Esta linha conecta a função abaixo com o simulador quântico.\n",
    "@qml.qnode(dev)\n",
    "def rz(theta):\n",
    "    # Aplicamos uma a porta de rotação Rz ao qubit 0, esta porta rotaciona o estado do qubit entorno do eixo Z.\n",
    "    qml.RZ(theta,wires=0)\n",
    "    # Retornamos o valor médio de Z\n",
    "    return qml.expval(qml.PauliZ(0))\n"
   ]
  },
  {
   "cell_type": "code",
   "execution_count": 15,
   "id": "5f2fac3b",
   "metadata": {},
   "outputs": [
    {
     "data": {
      "image/png": "[encoded data removed]",
      "text/plain": [
       "<Figure size 400x200 with 1 Axes>"
      ]
     },
     "metadata": {},
     "output_type": "display_data"
    }
   ],
   "source": [
    "# código para plotar uma ilustração do circuito quântico criado pela função rz\n",
    "theta = np.random.random(1)\n",
    "fig, ax = qml.draw_mpl(rz)(theta)\n",
    "plt.show()"
   ]
  },
  {
   "cell_type": "markdown",
   "id": "2b29ee71",
   "metadata": {},
   "source": [
    "Na representação matricial, esta porta é definida da seguinte forma:\n",
    "\n",
    "$$\n",
    "RZ = RZ(\\theta) = \\begin{bmatrix}\n",
    "e^{-i\\theta/2} & 0  \\\\\n",
    "0 & e^{i\\theta/2} \n",
    "\\end{bmatrix}. \\tag{18}\n",
    "$$"
   ]
  },
  {
   "cell_type": "markdown",
   "id": "c4d8cd1d",
   "metadata": {},
   "source": [
    "Na ilustração a seguir, mostramos como o estado do qubit rotaciona ao redor de um dos eixos, dependendo da porta de rotação usada.\n",
    "\n",
    "A) O qubit inicia no estado $|0\\rangle$, vetor em azul, e em seguida aplicamos a porta ``RX``, considerando diferentes valores para $\\theta$, representados pelos vetores vermelho, cinza e verde.\n",
    "\n",
    "B) O qubit inicia no estado $|0\\rangle$, vetor em azul, e em seguida aplicamos a porta ``RY``, considerando diferentes valores para $\\theta$, representados pelos vetores vermelho, cinza e verde.\n",
    "\n",
    "C) O qubit inicia no estado $H|0\\rangle$, vetor em azul, e em seguida aplicamos a porta ``RZ``, considerando diferentes valores para $\\theta$, representados pelos vetores vermelho, cinza e verde."
   ]
  },
  {
   "cell_type": "markdown",
   "id": "c88b4448",
   "metadata": {},
   "source": [
    "\n",
    "<img src=\"PortasDeRota%C3%A7%C3%A3o.jpg\" width=\"900px\">"
   ]
  },
  {
   "cell_type": "markdown",
   "id": "747d0d9a",
   "metadata": {},
   "source": [
    "Em todos os casos, os ângulos $\\theta$ usados foram $\\theta = \\pi/6, \\pi/3, \\pi/2$, correspondendo aos vetores vermelho, cinza e verde, respectivamente.\n",
    "\n",
    "**OBS**: No seguinte link https://docs.pennylane.ai/en/stable/introduction/operations.html, vocês podem acessar todas as portas lógicas quânticas implementadas pelo pennylane."
   ]
  },
  {
   "cell_type": "markdown",
   "id": "892e3552",
   "metadata": {},
   "source": [
    "## Computação quântica com 2 qubits"
   ]
  },
  {
   "cell_type": "markdown",
   "id": "a882f3a3",
   "metadata": {},
   "source": [
    "Agora que já sabemos como criar um algoritmo quântico com 1 qubit, vejamos alguns exemplos de como criar um algoritmo com 2 qubits.\n",
    "\n",
    "**Primeiro exemplo**"
   ]
  },
  {
   "cell_type": "code",
   "execution_count": 3,
   "id": "bb55d628",
   "metadata": {},
   "outputs": [],
   "source": [
    "# Criamos um \"dispositivo quântico virtual\" chamado 'dev'. \n",
    "#Agora wires=2 indica que usaremos 2 qubits\n",
    "dev = qml.device('default.qubit',wires=2)\n",
    "@qml.qnode(dev)\n",
    "def Bell():\n",
    "    qml.Barrier(wires=[0,1])\n",
    "    qml.Hadamard(wires=0)#aplica a porta Hadamard ao primeiro qubit\n",
    "    #aplica uma porta Not controlada - ou CNOT - entre os qubits 0 e 1. \n",
    "    # a porta CNOT é usada da seguinte forma qml.CNOT(wires=[i,j]) \n",
    "    #com i indicando o qubit de controle e j o qubit alvo.\n",
    "    qml.Barrier(wires=[0,1])\n",
    "    qml.CNOT(wires=[0,1])\n",
    "    qml.Barrier(wires=[0,1])\n",
    "    return qml.probs()# retorna as probabilidade"
   ]
  },
  {
   "cell_type": "code",
   "execution_count": 4,
   "id": "e1ce70e4",
   "metadata": {},
   "outputs": [
    {
     "data": {
      "image/png": "[encoded data removed]",
      "text/plain": [
       "<Figure size 800x300 with 1 Axes>"
      ]
     },
     "metadata": {},
     "output_type": "display_data"
    }
   ],
   "source": [
    "# código para plotar uma ilustração do circuito quântico criado pela função Bell\n",
    "fig, ax = qml.draw_mpl(Bell)()\n",
    "plt.show()"
   ]
  },
  {
   "cell_type": "code",
   "execution_count": 27,
   "id": "50eb3b9c",
   "metadata": {},
   "outputs": [
    {
     "data": {
      "text/plain": [
       "tensor([0.5, 0. , 0. , 0.5], requires_grad=True)"
      ]
     },
     "execution_count": 27,
     "metadata": {},
     "output_type": "execute_result"
    }
   ],
   "source": [
    "Bell() # executa a função Bell"
   ]
  },
  {
   "cell_type": "markdown",
   "id": "ac344c16",
   "metadata": {},
   "source": [
    "Novamente, vejamos passo a passo o que está acontecendo com este algoritmo. Agora estamos usando dois qubits, que iniciam no estado $|0\\rangle$, de modo que o nosso estado inicial é $|00\\rangle = |0\\rangle|0\\rangle = |0\\rangle \\otimes |0\\rangle$.\n",
    "\n",
    "Na forma matricial, temos então que nosso estado inicial será descrito por:\n",
    "\n",
    "$$\n",
    "|00\\rangle = |0\\rangle \\otimes|0\\rangle = \\begin{bmatrix}\n",
    "1   \\\\\n",
    "0  \n",
    "\\end{bmatrix} \\otimes\n",
    "\\begin{bmatrix}\n",
    "1  \\\\\n",
    " 0 \n",
    "\\end{bmatrix} \n",
    "= \\begin{bmatrix}\n",
    "1 \\begin{bmatrix}\n",
    "1  \\\\\n",
    " 0 \n",
    "\\end{bmatrix}  \\\\\n",
    " 0 \\begin{bmatrix}\n",
    "1  \\\\\n",
    " 0 \n",
    "\\end{bmatrix} \n",
    "\\end{bmatrix} =\n",
    "\\begin{bmatrix}\n",
    "1  \\\\\n",
    " 0 \\\\\n",
    " 0 \\\\\n",
    " 0 \n",
    "\\end{bmatrix}. \\tag{19}\n",
    "$$\n"
   ]
  },
  {
   "cell_type": "markdown",
   "id": "90ef7e05",
   "metadata": {},
   "source": [
    "Em seguida, aplicamos a porta ``Hadamard`` no primeiro qubit. Note que não aplicamos nenhuma operação no segundo qubit; esse ato de não fazer nada pode ser representado pela matriz identidade $I$. Portanto, o estado $|\\psi_1 \\rangle$ obtido após a aplicação da porta ``Hadamard`` é dado por\n",
    "\n",
    "$$\n",
    "|\\psi_1 \\rangle =  (H \\otimes I) |00\\rangle =  (H \\otimes I) |0\\rangle \\otimes |0\\rangle = H |0\\rangle \\otimes I|0\\rangle =  H |0\\rangle \\otimes |0\\rangle, \\tag{20}\n",
    "$$\n",
    "\n",
    "onde, usamos a identidade $(A\\otimes B)(C \\otimes D) = AC \\otimes BD$. \n",
    "\n",
    "Observe que nosso estado $|\\psi_1 \\rangle$ depende de $H |0\\rangle$, que já foi obtido anteriormente. Portanto, utilizando o resultado para $H |0\\rangle$, temos que\n",
    "\n",
    "\n",
    "\n",
    "\\begin{equation}\n",
    "\\begin{aligned}\n",
    "|\\psi_1 \\rangle & =  H |0\\rangle \\otimes |0\\rangle \\\\\n",
    "&= \\frac{1}{\\sqrt{2}}(|0\\rangle + |1\\rangle) \\otimes |0\\rangle \\\\\n",
    "& = \\frac{1}{\\sqrt{2}}(|00\\rangle + |10\\rangle).\n",
    "\\end{aligned}\n",
    "\\tag{21}\n",
    "\\end{equation}"
   ]
  },
  {
   "cell_type": "markdown",
   "id": "9d9d655a",
   "metadata": {},
   "source": [
    "Em seguida, aplicamos a porta ``CNOT`` ao estado $|\\psi_1 \\rangle$. A porta ``CNOT`` é uma operação de dois qubits cujo efeito é fazer com que o estado de um qubit, chamado qubit alvo, dependa do estado de outro qubit, chamado qubit de controle. Matematicamente, a ``CNOT`` atua sobre a base dos dois qubits — com o primeiro sendo o qubit de controle e o segundo o qubit alvo — da seguinte forma:\n",
    "\n",
    "$$ \\text{CNOT} |00 \\rangle =  |00 \\rangle, \\tag{22} $$\n",
    "\n",
    "$$ \\text{CNOT} |01 \\rangle =  |01 \\rangle, \\tag{23} $$\n",
    "\n",
    "$$ \\text{CNOT} |10 \\rangle =  |11 \\rangle \\tag{24}$$\n",
    "e\n",
    "$$ \\text{CNOT} |11 \\rangle =  |10 \\rangle. \\tag{25}$$"
   ]
  },
  {
   "cell_type": "markdown",
   "id": "35b60a71",
   "metadata": {},
   "source": [
    "Portanto, aplicando a ``CNOT`` ao nosso estado $|\\psi_1\\rangle$, obteremos que\n",
    "\n",
    "\n",
    "\n",
    "\\begin{equation}\n",
    "\\begin{aligned}\n",
    "|\\psi \\rangle & = \\text{CNOT}|\\psi_1 \\rangle  \\\\\n",
    "& = \\frac{1}{\\sqrt{2}}\\text{CNOT}\\big(|00\\rangle + |10\\rangle\\big) \\\\\n",
    "& = \\frac{1}{\\sqrt{2}}\\big(\\text{CNOT}|00\\rangle + \\text{CNOT}|10\\rangle\\big) \\\\\n",
    "& = \\frac{1}{\\sqrt{2}}\\big(|00\\rangle + |11\\rangle\\big).\n",
    "\\end{aligned}\n",
    "\\tag{26}\n",
    "\\end{equation}"
   ]
  },
  {
   "cell_type": "markdown",
   "id": "bcdf9846",
   "metadata": {},
   "source": [
    "Por fim, realizamos as medições, que retornam as probabilidades. Neste caso, as probabilidades são descritas por\n",
    "\n",
    "$$\n",
    "Pr(|ij\\rangle, |\\psi\\rangle) = |\\langle ij | \\psi \\rangle|^2, \\quad \\text{com} \\quad i,j = 0,1.\\tag{27}\n",
    "$$\n"
   ]
  },
  {
   "cell_type": "markdown",
   "id": "e3e94aa8",
   "metadata": {},
   "source": [
    "**Segundo exemplo**"
   ]
  },
  {
   "cell_type": "code",
   "execution_count": 37,
   "id": "06a82a91",
   "metadata": {},
   "outputs": [],
   "source": [
    "# Criamos um \"dispositivo quântico virtual\" chamado 'dev'. \n",
    "#Agora wires=2 indica que usaremos 2 qubits\n",
    "dev = qml.device('default.qubit',wires=2)\n",
    "@qml.qnode(dev)\n",
    "def Bell_2():\n",
    "    qml.Hadamard(wires=0)#aplica a porta Hadamard ao primeiro qubit\n",
    "    #aplica uma porta Not controlada - ou CNOT - entre os qubits 0 e 1. \n",
    "    # a porta CNOT é usada da seguinte forma qml.CNOT(wires=[i,j]) \n",
    "    #com i indicando o qubit de controle e j o qubit alvo.\n",
    "    qml.CNOT(wires=[0,1])\n",
    "    return qml.expval(qml.PauliZ(wires=0)) # retorna o valor médio de Z medido no primeiro qubit "
   ]
  },
  {
   "cell_type": "code",
   "execution_count": 38,
   "id": "3ca4849e",
   "metadata": {},
   "outputs": [
    {
     "data": {
      "image/png": "[encoded data removed]",
      "text/plain": [
       "<Figure size 500x300 with 1 Axes>"
      ]
     },
     "metadata": {},
     "output_type": "display_data"
    }
   ],
   "source": [
    "# código para plotar uma ilustração do circuito quântico criado pela função Bell\n",
    "fig, ax = qml.draw_mpl(Bell_2)()\n",
    "plt.show()"
   ]
  },
  {
   "cell_type": "markdown",
   "id": "a98e74c9",
   "metadata": {},
   "source": [
    "No exemplo apresentado na função ``Bell_2``, estamos novamente usando um modelo com 2 qubits, igual ao exemplo anterior. Porém, agora, ao invés de obter as probabilidades, estaremos calculando o valor médio de $Z$ em relação ao primeiro qubit. O valor médio, neste caso, é definido da seguinte forma:\n",
    "\n",
    "$$\n",
    "\\langle Z \\rangle_{\\psi} = \\langle \\psi | Z \\otimes I | \\psi \\rangle := \\langle \\psi |O| \\psi \\rangle ,\\tag{28}\n",
    "$$\n",
    "\n",
    "onde $O := Z \\otimes I$. Observe que o valor médio é definido de forma semelhante ao apresentado na Eq. [10], porém, ao invés de usarmos apenas $Z$, estamos usando $Z \\otimes I$. Isso ocorre porque, ao calcular o valor médio que depende de apenas um ou alguns qubits — e não de todos os qubits usados pelo algoritmo — consideramos que estamos aplicando a matriz identidade nos demais qubits que não participam do cálculo do valor médio. "
   ]
  },
  {
   "cell_type": "markdown",
   "id": "0f219b55",
   "metadata": {},
   "source": [
    "**E se calculássemos o valor médio de $Z$ em relação ao segundo qubit?**\n",
    "\n",
    "Neste caso, usaríamos o seguinte código."
   ]
  },
  {
   "cell_type": "code",
   "execution_count": 39,
   "id": "9607e1b6",
   "metadata": {},
   "outputs": [],
   "source": [
    "# Criamos um \"dispositivo quântico virtual\" chamado 'dev'. \n",
    "#Agora wires=2 indica que usaremos 2 qubits\n",
    "dev = qml.device('default.qubit',wires=2)\n",
    "@qml.qnode(dev)\n",
    "def Bell_3():\n",
    "    qml.Hadamard(wires=0)#aplica a porta Hadamard ao primeiro qubit\n",
    "    #aplica uma porta Not controlada - ou CNOT - entre os qubits 0 e 1. \n",
    "    # a porta CNOT é usada da seguinte forma qml.CNOT(wires=[i,j]) \n",
    "    #com i indicando o qubit de controle e j o qubit alvo.\n",
    "    qml.CNOT(wires=[0,1])\n",
    "    return qml.expval(qml.PauliZ(wires=1)) # retorna o valor médio de Z medido no primeiro qubit "
   ]
  },
  {
   "cell_type": "code",
   "execution_count": 40,
   "id": "ca1fc37a",
   "metadata": {},
   "outputs": [
    {
     "data": {
      "image/png": "[encoded data removed]",
      "text/plain": [
       "<Figure size 500x300 with 1 Axes>"
      ]
     },
     "metadata": {},
     "output_type": "display_data"
    }
   ],
   "source": [
    "# código para plotar uma ilustração do circuito quântico criado pela função Bell\n",
    "fig, ax = qml.draw_mpl(Bell_3)()\n",
    "plt.show()"
   ]
  },
  {
   "cell_type": "markdown",
   "id": "9570240a",
   "metadata": {},
   "source": [
    "Matematicamente, teríamos agora:\n",
    "\n",
    "$$\n",
    "\\langle Z \\rangle_{\\psi} = \\langle \\psi | I \\otimes Z | \\psi \\rangle := \\langle \\psi |O| \\psi \\rangle , \\tag{29}\n",
    "$$\n"
   ]
  },
  {
   "cell_type": "markdown",
   "id": "673a275b",
   "metadata": {},
   "source": [
    "**Terceiro exemplo**\n",
    "\n",
    "Em um caso mais geral, no qual estamos interessados, por exemplo, no valor médio de um Hamiltoniano $H$ de dois qubits, devemos então utilizar o seguinte código:"
   ]
  },
  {
   "cell_type": "code",
   "execution_count": 41,
   "id": "567c0bb8",
   "metadata": {},
   "outputs": [],
   "source": [
    "# Criamos um \"dispositivo quântico virtual\" chamado 'dev'. \n",
    "#Agora wires=2 indica que usaremos 2 qubits\n",
    "dev = qml.device('default.qubit',wires=2)\n",
    "@qml.qnode(dev)\n",
    "def Geral_2_qubits():\n",
    "    qml.Hadamard(wires=0)#aplica a porta Hadamard ao primeiro qubit\n",
    "    #aplica uma porta Not controlada - ou CNOT - entre os qubits 0 e 1. \n",
    "    # a porta CNOT é usada da seguinte forma qml.CNOT(wires=[i,j]) \n",
    "    #com i indicando o qubit de controle e j o qubit alvo.\n",
    "    qml.CNOT(wires=[0,1])\n",
    "    return qml.expval(qml.Hermitian(H, wires=[0,1])) # retorna o valor médio de H"
   ]
  },
  {
   "cell_type": "markdown",
   "id": "7cfb62d1",
   "metadata": {},
   "source": [
    "A diferença, agora, é que usamos ``qml.expval(qml.Hermitian(H, wires=[0, 1]))``. Essa é a sintaxe adotada pelo PennyLane para indicar que desejamos que o algoritmo calcule o valor médio do Hamiltoniano $H$."
   ]
  },
  {
   "cell_type": "markdown",
   "id": "30c9d1a4",
   "metadata": {},
   "source": [
    "# Algoritmos quânticos variacionais(VQAs)"
   ]
  },
  {
   "cell_type": "markdown",
   "id": "31c0057d",
   "metadata": {},
   "source": [
    "## Uma breve introdução aos VQAs"
   ]
  },
  {
   "cell_type": "markdown",
   "id": "7de82eaf",
   "metadata": {},
   "source": [
    "Os algoritmos quânticos variacionais constituem uma classe de algoritmos que operam com base na aplicação direta do método variacional. O propósito desses algoritmos é minimizar uma função de custo, geralmente definida como:\n",
    "\n",
    "$$\n",
    "C(\\pmb{\\theta}) = \\langle \\psi(\\pmb{\\theta}) | H | \\psi(\\pmb{\\theta}) \\rangle, \\tag{30}\n",
    "$$\n",
    "\n",
    "onde $H$ é algum observável — ou um Hamiltoniano de interesse — e $| \\psi(\\pmb{\\theta}) \\rangle$ é um estado obtido por meio da aplicação de um conjunto de portas lógicas quânticas sobre um estado inicial, geralmente $|0\\rangle^{\\otimes n}$, sendo $n$ o número de qubits. Em outras palavras, $| \\psi(\\pmb{\\theta}) \\rangle$ é definido como:\n",
    "\n",
    "$$\n",
    "| \\psi(\\pmb{\\theta}) \\rangle : = U(\\pmb{\\theta})|0\\rangle^{\\otimes n}. \\tag{31}\n",
    "$$\n",
    "\n",
    "A minimização da função de custo definida na Eq. [30] consiste em otimizar os parâmetros $\\pmb{\\theta}$, de modo a obter:\n",
    "\n",
    "$$\n",
    "\\pmb{\\theta}_{opt} = \\arg \\min_{\\pmb{\\theta}} C(\\pmb{\\theta}). \\tag{32}\n",
    "$$\n",
    "\n",
    "Para isso, empregamos, em geral, o método conhecido como gradiente descendente, cuja regra de otimização é definida como:\n",
    "\n",
    "$$\n",
    "\\pmb{\\theta}_{t+1} = \\pmb{\\theta}_{t} - \\eta \\nabla_{\\pmb{\\theta}_{t}}C(\\pmb{\\theta}_{t}), \\tag{33}\n",
    "$$\n",
    "onde $\\eta$ é conhecido como taxa de aprendizado — ou *learning rate* — e $t$ indica em qual iteração os parâmetros são otimizados. Ou seja, otimizamos os parâmetros $\\pmb{\\theta}$ de forma iterativa, utilizando o gradiente da função de custo $C(\\pmb{\\theta})$."
   ]
  },
  {
   "cell_type": "markdown",
   "id": "2262594a",
   "metadata": {},
   "source": [
    "A figura a seguir ilustra como o método do gradiente descendente funciona. Dada uma função de custo $f(x)$ e um ponto inicial $x_{\\text{int}}$ (em verde), esse método otimiza, neste caso, o valor de $x$ (em vermelho), com o objetivo de encontrar o menor valor possível de $f$ (em azul).\n",
    "\n",
    "Observe que o valor mínimo obtido depende da escolha da taxa de aprendizado $\\eta$, assim como o comportamento do método. Para diferentes valores de $\\eta$, os pontos em vermelho — que indicam o comportamento do método durante a otimização de $x$, processo que chamaremos de treinamento a partir deste ponto — variam consideravelmente."
   ]
  },
  {
   "cell_type": "markdown",
   "id": "b0ad7241",
   "metadata": {},
   "source": [
    "<img src=\"exemploGradiente.jpg\" width=\"900px\">"
   ]
  },
  {
   "cell_type": "markdown",
   "id": "7457c5e5",
   "metadata": {},
   "source": [
    "A seguir, é apresentada uma ilustração esquemática do funcionamento dos VQAs.\n",
    "\n",
    "- Como podemos ver, esses algoritmos recebem como entrada um conjunto de parâmetros $\\pmb{\\theta}$ e um Hamiltoniano $H$, que descreve o problema que desejamos resolver.\n",
    "\n",
    "- Essas entradas são usadas para criar um circuito quântico, utilizando $n$ qubits — todos iniciando no estado $|0\\rangle$ — seguido pela aplicação de um conjunto de portas lógicas quânticas, com todas ou algumas delas dependendo dos parâmetros $\\pmb{\\theta}$, atuando sobre os qubits.\n",
    "\n",
    "\n",
    "- Em seguida, realizam-se as medições, que nos retornam, por exemplo, o valor médio de $H$.\n",
    "\n",
    "\n",
    "- Por fim, um otimizador clássico é utilizado para ajustar os parâmetros $\\pmb{\\theta}$, de modo a minimizar a função de custo."
   ]
  },
  {
   "cell_type": "markdown",
   "id": "0ba10f9f",
   "metadata": {},
   "source": [
    "<img src=\"vqaIlustracao.png\" width=\"900px\">\n",
    "Fonte: https://doi.org/10.1103/RevModPhys.94.015004"
   ]
  },
  {
   "cell_type": "markdown",
   "id": "80552700",
   "metadata": {},
   "source": [
    "# Atividades:\n",
    "\n",
    "1) Demonstre a igualdade dada pela Eq. [13].\n",
    "\n",
    "\n",
    "2) Calcule as probabilidades usando $|\\psi\\rangle$, dado pela Eq. [26], e compare com o resultado obtido pelo algoritmo chamado ``Bell()``.\n",
    "\n",
    "\n",
    "3) Considere um qubit preparado no estado inicial $|\\psi_1 \\rangle = H|0\\rangle$. Obtenha o estado evoluído $|\\psi \\rangle$, resultante da aplicação de uma porta de rotação ``RY`` com um ângulo $\\theta$ arbitrário.\n",
    "\n",
    "\n",
    "4) Calcule as probabilidades do estado evoluído $|\\psi \\rangle$ , obtido na atividade 3.\n",
    "\n",
    "\n",
    "5) Considere novamente o estado evoluído $|\\psi \\rangle$ , obtido na atividade 3, e calcule o valor médio de $Z$.\n",
    " \n",
    "\n",
    "6) Considere um algoritmo quântico com dois qubits. Qual é o estado evoluído obtido ao aplicarmos uma porta ``Hadamard`` no primeiro qubit, uma porta ``Hadamard`` no segundo qubit e uma porta ``CNOT``, com o primeiro qubit como qubit de controle e o segundo como qubit alvo?"
   ]
  }
 ],
 "metadata": {
  "kernelspec": {
   "display_name": "Python 3 (ipykernel)",
   "language": "python",
   "name": "python3"
  },
  "language_info": {
   "codemirror_mode": {
    "name": "ipython",
    "version": 3
   },
   "file_extension": ".py",
   "mimetype": "text/x-python",
   "name": "python",
   "nbconvert_exporter": "python",
   "pygments_lexer": "ipython3",
   "version": "3.8.10"
  }
 },
 "nbformat": 4,
 "nbformat_minor": 5
}
