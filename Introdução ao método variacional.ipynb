{
 "cells": [
  {
   "cell_type": "markdown",
   "id": "f2820536",
   "metadata": {},
   "source": [
    "### Introdução\n",
    "\n",
    "Na mecânica quântica, encontrar soluções exatas para a equação de Schrödinger é, em geral, uma tarefa extremamente difícil e, para muitos sistemas, simplesmente impossível. O método variacional surge como uma poderosa ferramenta aproximativa para estimar a energia fundamental (ou energia do estado estado fundamental) de um sistema quântico.\n",
    "\n",
    "A ideia por trás do método variacional é simples e poderosa: se escolhermos uma função de onda qualquer, desde que esteja normalizada, o valor esperado, ou valor médio, da energia calculado com ela será sempre maior ou igual à verdadeira energia do estado fundamental do sistema. Isso é garantido pelo chamado princípio variacional. Com base nisso, podemos testar diferentes funções de onda aproximadas — chamadas de funções de teste — e ajustar seus parâmetros para minimizar a energia. O menor valor obtido nessa busca fornece uma boa estimativa para a energia fundamental mesmo sem conhecer a solução exata da equação de Schrödinger.\n",
    "\n",
    "O método variacional é particularmente útil em sistemas com muitos corpos ou potenciais complexos, como no átomo de hélio, em moléculas ou em sólidos. Além disso, sua estrutura flexível torna-o um ponto de partida essencial tanto em abordagens analíticas quanto numéricas, incluindo técnicas modernas como os algoritmos quânticos variacionais usados na computação quântica."
   ]
  },
  {
   "cell_type": "markdown",
   "id": "3f5446e0",
   "metadata": {},
   "source": [
    "#### Teorema Variacional (Estado Fundamental)\n",
    "\n",
    "Seja um sistema de interesse descrito pelo hamiltoniano $H$, em que $E_{0}$ representa a energia do estado fundamental. Seja $|\\phi \\rangle$ uma função de onda teste, tal que\n",
    "\n",
    "$$\n",
    "|\\phi \\rangle = \\sum_{n=0} \\alpha_{n}|\\alpha_{n} \\rangle, \\quad \\text{com} \\quad \\sum_{n=0} |\\alpha_{n}|^2 = 1, \\tag{1}\n",
    "$$\n",
    "\n",
    "e seja\n",
    "\n",
    "$$\n",
    "H|\\alpha_n \\rangle = E_{n}|\\alpha_n \\rangle, \\tag{2}\n",
    "$$\n",
    "\n",
    "com \n",
    "\n",
    "$$\n",
    "E_{n+1} \\geqslant E_n. \\tag{3}\n",
    "$$\n",
    "\n",
    "Então,\n",
    "\n",
    "$$\n",
    "\\langle H \\rangle_{\\phi} \\geqslant E_{0}. \\tag{4}\n",
    "$$\n"
   ]
  },
  {
   "cell_type": "markdown",
   "id": "4b025d6b",
   "metadata": {},
   "source": [
    "#### Prova\n",
    "\n",
    "Iniciamos escrevendo o valor médio como segue:\n",
    "\n",
    "\\begin{equation}\n",
    "\\begin{aligned}\n",
    "\\langle H \\rangle_{\\phi} & = \\langle \\phi |H| \\phi \\rangle  \\\\\n",
    "                         & = \\sum_{m,n=0} \\alpha_{m}^{*} \\alpha_n \\langle \\alpha_m |H |\\alpha_n \\rangle \\\\\n",
    "                         & = \\sum_{m,n=0} \\alpha_{m}^{*} \\alpha_n E_n \\langle  \\alpha_m  |\\alpha_n \\rangle \\\\\n",
    "                         & = \\sum_{m,n=0} \\alpha_{m}^{*} \\alpha_n E_n  \\delta_{m,n} \\\\\n",
    "                         & = \\sum_{n=0} E_n |\\alpha_{n}|^{2}. \\end{aligned}\\tag{5} \\end{equation}\n",
    "\n",
    "Agora, se usarmos a desigualdade dada pela Eq.(3), temos que:\n",
    "\n",
    "\\begin{align}\n",
    "\\langle H \\rangle_{\\phi} & = \\sum_{n=0} E_n |\\alpha_{n}|^{2} \\geqslant \\sum_{n=0} E_0 |\\alpha_{n}|^{2} = E_0 \\sum_{n=0}  |\\alpha_{n}|^{2} = E_0 \\cdot 1 = E_0. \\tag{6}\n",
    "\\end{align}\n",
    "\n",
    "Assim, fica provado o limite inferior dado pela Eq.(4).\n"
   ]
  },
  {
   "cell_type": "markdown",
   "id": "61dea930",
   "metadata": {},
   "source": [
    "--------------------"
   ]
  },
  {
   "cell_type": "markdown",
   "id": "b78ed7bb",
   "metadata": {},
   "source": [
    "Agora vejamos um exemplo de aplicação do método variacional à solução de um problema simples.\n",
    "\n",
    "\n",
    "#### Exemplo: Oscilador harmônico quântico unidimensional.\n",
    "\n",
    "O hamiltoniano que descreve esse sistema de interesse é definido da seguinte forma:\n",
    "\n",
    "\n",
    "$$\n",
    "H = \\frac{P^2}{2m} + \\frac{mw^2X^2}{2}.\\tag{7}\n",
    "$$\n",
    "\n",
    "---------------------------\n",
    "Iniciamos propondo uma função de onda teste. Neste caso, utilizaremos a seguinte função de onda:\n",
    "\n",
    "$$\n",
    "\\phi(x) = A e^{-bx^2}.\\tag{8}\n",
    "$$\n",
    "\n",
    "Aqui, a variável $b$ é chamada de **parâmetro variacional**.\n",
    "\n",
    "\n",
    "Agora, devemos normalizar essa função de onda. Assim, temos:\n",
    "\n",
    "\n",
    "$$\n",
    "\\int_{- \\infty}^{+ \\infty} |\\phi(x)|^2dx = 1 \\longrightarrow \\int_{- \\infty}^{+ \\infty} |A|^2 e^{-2bx^2} dx =  |A|^2 \\int_{- \\infty}^{+ \\infty}  e^{-2bx^2} dx = 1\\tag{9}\n",
    "$$"
   ]
  },
  {
   "cell_type": "markdown",
   "id": "b3edb3a5",
   "metadata": {},
   "source": [
    "Para resolvermos esta integral, bem como as demais que aparecerão a partir deste ponto, utilizaremos o seguinte resultado:\n",
    "\n",
    "\n",
    "$$\n",
    "\\int_{- \\infty}^{+ \\infty} x^{2n}e^{-ax^2}dx = \\frac{(2n-1)!!}{(2a)^{n}} \\sqrt{ \\frac{\\pi}{a} }, \\quad \\text{para} \\quad n=0,1,2,...\\tag{10}\n",
    "$$\n",
    "\n",
    "onde\n",
    "\n",
    "$$\n",
    "(2n-1)!! = (2n-1)(2n-3)...(3)(1) \\tag{11}\n",
    "$$\n",
    "com $(-1)!! = 1$ e $0!! =1$."
   ]
  },
  {
   "cell_type": "markdown",
   "id": "56062b92",
   "metadata": {},
   "source": [
    "Assim, se utilizarmos $n=0$, obtemos:\n",
    "\n",
    "\n",
    "$$\n",
    "\\int_{- \\infty}^{+ \\infty} e^{-ax^2}dx = \\sqrt{\\frac{\\pi}{a}},\\tag{12}\n",
    "$$\n",
    "portanto, a partir da Eq.(9), ao identificarmos que $a = 2b$, obteremos:\n",
    "\n",
    "\n",
    "$$\n",
    "|A|^2 \\sqrt{ \\frac{\\pi}{2b} } = 1 \\longrightarrow  A = \\bigg( \\frac{2b}{\\pi} \\bigg)^{1/4}\\tag{13}\n",
    "$$"
   ]
  },
  {
   "cell_type": "markdown",
   "id": "b019b302",
   "metadata": {},
   "source": [
    "Logo, a partir da Eq.(8) e da Eq. (13), temos:\n",
    "\n",
    "\n",
    "$$\n",
    "\\phi(x) = \\bigg( \\frac{2b}{\\pi} \\bigg)^{1/4}e^{-bx^2}.\\tag{14}\n",
    "$$"
   ]
  },
  {
   "cell_type": "markdown",
   "id": "be658430",
   "metadata": {},
   "source": [
    "-----------------------------"
   ]
  },
  {
   "cell_type": "markdown",
   "id": "8fb26023",
   "metadata": {},
   "source": [
    "Agora, calcularemos o valor médio de $H$. Assim, a partir da Eq.(7), temos:\n",
    "\n",
    "$$\n",
    "\\langle H \\rangle_{\\phi} = \\frac{1}{2m}\\langle P^2 \\rangle_{\\phi} + \\frac{mw^2}{2} \\langle X^2 \\rangle_{\\phi}.\\tag{15}\n",
    "$$\n",
    "\n",
    "Vamos resolver cada termo separadamente. Iniciamos com o segundo termo, de modo que:\n",
    "\n",
    "\\begin{equation}\n",
    "\\begin{aligned}\n",
    "\\langle X^2 \\rangle_{\\phi} & = \\int_{- \\infty}^{+ \\infty} \\phi(x)^{*}x^2\\phi(x)dx \\\\\n",
    "                           & = \\bigg( \\frac{2b}{\\pi} \\bigg)^{1/2} \\int_{- \\infty}^{+ \\infty} x^2 e^{-2bx^2}dx                       \n",
    "\\end{aligned}\n",
    "\\tag{16}\n",
    "\\end{equation}"
   ]
  },
  {
   "cell_type": "markdown",
   "id": "a23199a4",
   "metadata": {},
   "source": [
    "A partir da Eq.(10) e usando $n=1$, temos:\n",
    "\n",
    "$$\n",
    "\\int_{- \\infty}^{+ \\infty} x^2 e^{-ax^2}dx = \\frac{1}{2a} \\sqrt{ \\frac{\\pi}{a} }.\\tag{17}\n",
    "$$\n",
    "Portanto, a partir da Eq.(16) e usando que $a = 2b$, obtemos:\n",
    "\n",
    "\\begin{align}\n",
    "\\langle X^2 \\rangle_{\\phi} & = \\sqrt{\\frac{2b}{\\pi}} \\frac{1}{4b} \\sqrt{ \\frac{\\pi}{2b} } = \\frac{1}{4b}.  \\tag{18}                  \n",
    "\\end{align}"
   ]
  },
  {
   "cell_type": "markdown",
   "id": "99660a54",
   "metadata": {},
   "source": [
    "Agora, calcularemos o primeiro termo da Eq.(15). Começamos escrevendo:\n",
    "\n",
    "\\begin{equation}\n",
    "\\begin{aligned}\n",
    "\\langle P^2 \\rangle_{\\phi} & = \\int_{- \\infty}^{+ \\infty} \\phi(x)^{*}P^2\\phi(x)dx  \\\\\n",
    "                            & = \\sqrt{\\frac{2b}{\\pi}} \\int_{- \\infty}^{+ \\infty} e^{-bx^2} P^2 e^{-bx^2}dx  \\\\ \n",
    "                            & = -\\hbar^2 \\sqrt{\\frac{2b}{\\pi}} \\int_{- \\infty}^{+ \\infty} e^{-bx^2} \\partial_{xx} e^{-bx^2}dx,\n",
    "\\end{aligned}\n",
    "\\tag{19}\n",
    "\\end{equation}\n",
    "onde, na última igualdade, usamos que $P = -i \\hbar \\frac{\\partial}{\\partial x}$. Adicionalmente, a notação $\\partial_{xx}$ indica uma derivada dupla, ou seja, $\\partial_{xx} = \\frac{\\partial^2}{\\partial x^2} = \\frac{\\partial}{\\partial x} \\frac{\\partial}{\\partial x}$.\n",
    "\n",
    "\n"
   ]
  },
  {
   "cell_type": "markdown",
   "id": "e8588e82",
   "metadata": {},
   "source": [
    "Agora, antes de resolvermos essa integral, devemos calcular a derivada dupla. Assim, ao realizarmos a derivação, obtemos:\n",
    "\n",
    "\\begin{equation}\n",
    "\\begin{aligned}\n",
    "\\partial_{xx}e^{-bx^2} & = \\partial_{x}( \\partial_x e^{-bx^2} ) \\\\\n",
    "                       & = \\partial_{x}( -2bx e^{-bx^2} ) \\\\\n",
    "                       & =  -2bx( e^{-bx^2} + x e^{-bx^2}(-2bx) ) \\\\\n",
    "                       & =  4b^2x^2 e^{-bx^2} - 2b  e^{-bx^2}.\n",
    "\\end{aligned}\n",
    "\\tag{20}\n",
    "\\end{equation}"
   ]
  },
  {
   "cell_type": "markdown",
   "id": "747fd88e",
   "metadata": {},
   "source": [
    "Substituindo esse resultado na Eq.(19), teremos:\n",
    "\\begin{equation}\n",
    "\\begin{aligned}\n",
    "\\langle P^2 \\rangle_{\\phi} & =  -\\hbar^2 \\sqrt{\\frac{2b}{\\pi}} \\int_{- \\infty}^{+ \\infty} e^{-bx^2}(4b^2x^2 e^{-bx^2} - 2b  e^{-bx^2})   dx \\\\\n",
    "& = -\\hbar^2 \\sqrt{\\frac{2b}{\\pi}} \\bigg[ 4b^2 \\int_{- \\infty}^{+ \\infty} x^2 e^{-2bx^2} dx - 2b \\int_{- \\infty}^{+ \\infty}  e^{-2bx^2} dx \\bigg] \\\\\n",
    "& = -\\hbar^2 \\sqrt{\\frac{2b}{\\pi}} \\bigg[ 4b^2 \\frac{1}{4b} \\sqrt{ \\frac{\\pi}{2b} }  - 2b \\sqrt{\\frac{\\pi}{2b}} \\bigg] \\\\\n",
    "& = b \\hbar^2 \\sqrt{ \\frac{2b}{\\pi}  } \\sqrt{ \\frac{\\pi}{2b} } \\\\\n",
    "& = b \\hbar^2,\n",
    "\\end{aligned}\n",
    "\\tag{21}\n",
    "\\end{equation}\n",
    "onde, para resolvermos as duas integrais, usamos os resultados obtidos anteriormente nas Eqs.(12) e (17).\n",
    "\n"
   ]
  },
  {
   "cell_type": "markdown",
   "id": "94195ae8",
   "metadata": {},
   "source": [
    "Portanto, usando os resultados obtidos nas Eqs.(18) e (21) na Eq.(15), obtemos:\n",
    "\n",
    "$$\n",
    "\\langle H \\rangle_{\\phi} = \\frac{b \\hbar^2}{2m} + \\frac{mw^2}{8b}\\tag{22}\n",
    "$$"
   ]
  },
  {
   "cell_type": "markdown",
   "id": "d7a78bcd",
   "metadata": {},
   "source": [
    "Segundo a Eq.(4), este valor é maior ou igual a $E_0$ para qualquer valor de $b$. No entanto, como desejamos o valor mais próximo possível, devemos encontrar o valor de $b$ que minimize $\\langle H \\rangle_{\\phi}$. Para isso, devemos derivar esse valor médio em relação a $b$ e igualar a zero. Assim, temos:\n",
    "\n",
    "$$ \\frac{d \\langle H \\rangle_{\\phi}}{db} = \\frac{\\hbar^2}{2m} - \\frac{mw^2}{8b^2} = 0 \\longrightarrow b = \\frac{mw}{2 \\hbar}. \\tag{23} $$\n",
    "\n",
    "- Podemos verificar que $\\partial_{bb} \\langle H \\rangle_{\\phi} > 0$, logo $b = \\frac{mw}{2 \\hbar}$ é um ponto de mínimo.\n"
   ]
  },
  {
   "cell_type": "markdown",
   "id": "bcbbf282",
   "metadata": {},
   "source": [
    "Assim, obtemos que:\n",
    "\n",
    "$$\n",
    "\\langle H \\rangle_{\\phi} = \\frac{1}{2}\\hbar w,\\tag{24}\n",
    "$$\n",
    "\n",
    "que coincide com a energia do estado fundamental do OHQ1D. Isso ocorreu porquê escolhemos uma função de onda teste que tem a mesma forma da autofunção correspondente ao estado fundamental do OHQ1D."
   ]
  },
  {
   "cell_type": "markdown",
   "id": "3e279d1d",
   "metadata": {},
   "source": [
    "A seguir, apresentamos um código que plota o gráfico do valor médio $\\langle H \\rangle$, em azul, em função da variável $b$, juntamente com o valor médio $\\langle H \\rangle$ usando o melhor valor de $b$ que minimiza o valor médio, em verde, obtido na Eq.(24).\n"
   ]
  },
  {
   "cell_type": "code",
   "execution_count": 29,
   "id": "d98daef6",
   "metadata": {},
   "outputs": [
    {
     "data": {
      "image/png": "[encoded data removed]",
      "text/plain": [
       "<Figure size 640x480 with 1 Axes>"
      ]
     },
     "metadata": {},
     "output_type": "display_data"
    }
   ],
   "source": [
    "import numpy as np\n",
    "import matplotlib.pyplot as plt\n",
    "\n",
    "m = 1\n",
    "w = 1\n",
    "h = 1\n",
    "b_otim = (m*w)/(2*h)\n",
    "\n",
    "b = np.arange(0.08,3,0.01)\n",
    "H_med = (b*(h**2))/(2*m) + (m*(w**2))/(8*b)\n",
    "\n",
    "plt.plot(b,H_med,label=r'$\\langle H \\rangle$',color='b')\n",
    "plt.plot(b_otim, (1/2)*h*w,'o',label=r'$\\langle H \\rangle_{b_{otim}}$' , color = 'g')\n",
    "plt.xlabel('b')\n",
    "plt.grid()\n",
    "plt.legend()\n",
    "plt.show()"
   ]
  },
  {
   "cell_type": "markdown",
   "id": "1e6af791",
   "metadata": {},
   "source": [
    "------------------------------"
   ]
  },
  {
   "cell_type": "markdown",
   "id": "5df8394a",
   "metadata": {},
   "source": [
    "#### Teorema variacional  (Primeiro estado excitado )\n",
    "\n",
    "Seja o sistema de interesse descrito pelo hamiltoniano $H$ com $H|\\alpha_n \\rangle = E_{n}|\\alpha_n \\rangle$ e $E_{n+1} \\geqslant E_n$; e seja o estado de teste descrito por:\n",
    "\n",
    "$$\n",
    "|\\phi \\rangle = \\sum_{n=0}\\alpha_n |\\alpha_n \\rangle, \\quad \\text{com} \\quad \\sum_{n=0}|\\alpha_n|^2 = 1,\\tag{25} \n",
    "$$\n",
    "então, se \n",
    "\n",
    "$$\n",
    "\\langle \\phi | \\alpha_0 \\rangle :=0,\\tag{26}\n",
    "$$\n",
    "teremos que\n",
    "\n",
    "$$ \n",
    "\\langle H \\rangle_{\\phi}  \\geqslant E_1.\\tag{27}\n",
    "$$"
   ]
  },
  {
   "cell_type": "markdown",
   "id": "45fd172e",
   "metadata": {},
   "source": [
    "#### Prova.\n",
    "\n",
    "A prova para este caso é similar à prova do estado fundamental, ou seja, iniciamos escrevendo o valor médio da seguinte forma:\n",
    "\n",
    "\n",
    "\\begin{equation}\n",
    "\\begin{aligned}\n",
    "\\langle H \\rangle_{\\phi} & = \\langle \\phi |H| \\phi \\rangle \\\\\n",
    "                        & = \\sum_{m,n=0} \\alpha_{m}^{*} \\alpha_n \\langle \\alpha_m |H |\\alpha_n \\rangle \\\\\n",
    "                        & = \\sum_{m,n=0} \\alpha_{m}^{*} \\alpha_n E_n \\langle  \\alpha_m  |\\alpha_n \\rangle \\\\\n",
    "                        & = \\sum_{m,n=0} \\alpha_{m}^{*} \\alpha_n E_n  \\delta_{m,n} \\\\\n",
    "                        & = \\sum_{n=0} E_n |\\alpha_{n}|^{2}. \\\\\n",
    "\\end{aligned}\n",
    "\\tag{28}\n",
    "\\end{equation}\n",
    "\n",
    "\n",
    "Agora, usando a Eq.(26), temos que:\n",
    "\n",
    "\n",
    "$$\n",
    "\\langle \\phi | \\alpha_0 \\rangle = \\sum_{n=0}\\alpha_n^{*} \\langle \\alpha_n | \\alpha_0 \\rangle = \\alpha_0^{*} = 0. \\tag{29}\n",
    "$$\n",
    "\n",
    "Assim sendo, da Eq.(28), se a reescrevermos como:\n",
    "\n",
    "$$\n",
    "\\langle H \\rangle_{\\phi} = E_0 \\alpha_0 + \\sum_{n>0} E_n |\\alpha_{n}|^{2},\\tag{30}\n",
    "$$\n",
    "obteremos que:\n",
    "\n",
    "$$\n",
    "\\langle H \\rangle_{\\phi} =  \\sum_{n>0} E_n |\\alpha_{n}|^{2} \\geqslant E_1\\sum_{n>0}  |\\alpha_{n}|^{2}.\\tag{31}\n",
    "$$\n",
    "\n",
    "Agora, como sabemos que $\\alpha_0 = 0$, podemos reescrever esta equação da seguinte forma:\n",
    "\n",
    "\\begin{equation}\n",
    "\\begin{aligned}\n",
    "\\langle H \\rangle_{\\phi} & \\geqslant E_1\\sum_{n>0}  |\\alpha_{n}|^{2} \\\\\n",
    "& = E_1(0) +  E_1\\sum_{n>0}  |\\alpha_{n}|^{2} \\\\\n",
    "& = E_1|\\alpha_0|^2 +  E_1\\sum_{n>0}  |\\alpha_{n}|^{2} \\\\\n",
    "& = E_1\\sum_{n=0}  |\\alpha_{n}|^{2} \\\\\n",
    "& = E_1(1) = E_1.\n",
    "\\end{aligned}\n",
    "\\tag{32}\n",
    "\\end{equation}\n",
    "Portanto, fica provado o nosso teorema.\n"
   ]
  },
  {
   "cell_type": "markdown",
   "id": "9a8748e4",
   "metadata": {},
   "source": [
    "------------------"
   ]
  },
  {
   "cell_type": "markdown",
   "id": "26c83425",
   "metadata": {},
   "source": [
    "#### Exemplo: Oscilador harmônico quântico unidimensional.\n",
    "\n",
    "Primeiro, devemos propor uma função de teste que seja ortogonal ao estado fundamental. Neste caso, iremos propor a seguinte função de teste:\n",
    "\n",
    "\n",
    "$$\n",
    "\\phi_1(x) = A x e^{-bx^2}.\\tag{33}\n",
    "$$\n",
    "\n",
    "Devemos mostrar que, de fato, esta função de teste é ortogonal ao estado fundamental descrito pela Eq.(14). Assim sendo, temos que:\n",
    "\n",
    "\n",
    "$$\n",
    "\\langle \\phi_1(x) | \\phi(x) \\rangle = A\\bigg( \\frac{2b}{\\pi} \\bigg)^{1/4}\\int_{- \\infty}^{+ \\infty} x e^{-2bx^2}dx \\tag{34}.\n",
    "$$\n",
    "\n",
    "Observe que a função que estamos integrando na Eq.(34), $f(x) = xe^{-2bx^2}$, é uma função ímpar, ou seja $f(-x) = -f(x)$. Adicionalmente, a integral é simétrica em torno da origem. Portanto, a integral é nula e, consequentemente, a função de teste $\\phi_1(x)$ é ortogonal ao estado fundamental descrito pela Eq.(14).\n",
    "\n"
   ]
  },
  {
   "cell_type": "markdown",
   "id": "68a0fb84",
   "metadata": {},
   "source": [
    "Agora, antes de prosseguirmos, devemos normalizar a função de teste. Assim sendo,\n",
    "\n",
    "$$\n",
    "\\int_{- \\infty}^{+ \\infty} |\\phi_1(x)|^2dx = 1 \\longrightarrow \\int_{- \\infty}^{+ \\infty} |A|^2 x^2 e^{-2bx^2} dx =  |A|^2 \\int_{- \\infty}^{+ \\infty} x^2 e^{-2bx^2} dx = |A|^2 \\frac{1}{4b}\\sqrt{ \\frac{\\pi}{2b} } = 1 \\tag{35},\n",
    "$$\n",
    "\n",
    "\n",
    "onde a integral que devemos resolver já foi resolvida na Eq.(17) com $a = 2b$. Logo, obtemos que:\n",
    "\n",
    "$$\n",
    "A = \\sqrt{4b} \\bigg( \\frac{2b}{\\pi} \\bigg)^{1/4}. \\tag{36}\n",
    "$$\n",
    "\n",
    "Portanto, usando este valor na Eq.(33), obtemos que:\n",
    "\n",
    "\n",
    "$$\n",
    "\\phi_1(x) = \\sqrt{4b \\sqrt{\\frac{2b}{\\pi}} }  x e^{-bx^2}.\\tag{37}\n",
    "$$\n"
   ]
  },
  {
   "cell_type": "markdown",
   "id": "a27a72a5",
   "metadata": {},
   "source": [
    "Agora que já temos a função de teste, podemos calcular o valor médio de $H$, dado por:\n",
    "\n",
    "$$\n",
    "\\langle H \\rangle_{\\phi_1} = \\frac{1}{2m}\\langle P^2 \\rangle_{\\phi_1} + \\frac{mw^2}{2}\\langle X^2 \\rangle_{\\phi_1} \\tag{38}.\n",
    "$$"
   ]
  },
  {
   "cell_type": "markdown",
   "id": "bae40aa9",
   "metadata": {},
   "source": [
    "Novamente, vamos resolver por partes, iniciando pelo segundo termo.\n",
    "\n",
    "\\begin{equation}\n",
    "\\begin{aligned}\n",
    "\\langle X^2 \\rangle_{\\phi_1} & = \\int_{- \\infty}^{+ \\infty} \\phi_1^{*}(x)X^2\\phi_1(x)dx \\\\\n",
    "& = 4b \\sqrt{ \\frac{2b}{\\pi} } \\int_{- \\infty}^{+ \\infty} x^4 e^{-2bx^2}dx. \n",
    "\\end{aligned}\n",
    "\\tag{39}\n",
    "\\end{equation}\n",
    "Agora, da Eq.(10) e usando $n = 2$, obtemos que:\n",
    "\n",
    "$$\n",
    "\\int_{- \\infty}^{+ \\infty} x^4 e^{-2bx^2}dx = \\frac{3}{4(2b)^2} \\sqrt{ \\frac{\\pi}{2b} }. \\tag{40}\n",
    "$$\n",
    "Portanto, da Eq.(39), obtemos, após as devidas manipulações, que:\n",
    "\n",
    "$$\n",
    "\\langle X^2 \\rangle_{\\phi_1} = \\frac{3}{4b} \\tag{41}.\n",
    "$$\n"
   ]
  },
  {
   "cell_type": "markdown",
   "id": "0498beea",
   "metadata": {},
   "source": [
    "Obtido o valor médio de $X^2$, agora devemos obter o valor médio de $P^2$. Logo, escrevendo o valor médio de $P^2$ como:\n",
    "\n",
    "\n",
    "$$\n",
    "\\langle P^2 \\rangle_{\\phi_1} = - \\hbar^2 4b \\sqrt{ \\frac{2b}{\\pi} } \\int_{- \\infty}^{+ \\infty} x e^{-bx^2} \\partial_{xx} x e^{-bx^2}dx \\tag{42},\n",
    "$$\n",
    "vemos que, primeiro, devemos calcular a derivada. Assim sendo, ao fazermos a derivada, obtemos que:\n",
    "\n",
    "\\begin{equation}\n",
    "\\begin{aligned}\n",
    "\\partial_x (\\partial_x xe^{-bx^2}) & = \\partial_x ( e^{-bx^2} - 2bx^2e^{-bx^2} ) \\\\\n",
    "& \\vdots  \\\\\n",
    "& = 4b^2 x^3 e^{-bx^2} - 6b x e^{-bx^2}.\n",
    "\\end{aligned}\n",
    "\\tag{43}\n",
    "\\end{equation}\n",
    "\n",
    "Agora, substituindo este resultado na Eq.(42), teremos que:\n",
    "\n",
    "\\begin{equation}\n",
    "\\begin{aligned}\n",
    "\\langle P^2 \\rangle_{\\phi_1} & = - \\hbar^2 4b \\sqrt{ \\frac{2b}{\\pi} } \\int_{- \\infty}^{+ \\infty} x e^{-bx^2} (4b^2 x^3 e^{-bx^2} - 6b x e^{-bx^2})dx \\\\\n",
    "& = - \\hbar^2 4b \\sqrt{ \\frac{2b}{\\pi} } \\bigg[ 4b^2 \\int_{- \\infty}^{+ \\infty} x^4 e^{-2bx^2}dx - 6b \\int_{- \\infty}^{+ \\infty} x^2 e^{-2bx^2}dx \\bigg].\n",
    "\\end{aligned}\n",
    "\\tag{44}\n",
    "\\end{equation}\n",
    "\n",
    "Portanto, para obtermos o valor médio, devemos agora resolver duas integrais. No entanto, essas integrais já apareceram anteriormente. Assim, usando os resultados já conhecidos, obtemos que o valor médio de $P^2$ será dado por:\n",
    "\n",
    "\\begin{equation}\n",
    "\\begin{aligned}\n",
    "\\langle P^2 \\rangle_{\\phi_1} & = - \\hbar^2 4b \\sqrt{ \\frac{2b}{\\pi} } \\bigg[ 4b^2 \\frac{3}{4(2b)^2} \\sqrt{ \\frac{\\pi}{ 2b } }  - \\frac{6b}{4b} \\sqrt{ \\frac{\\pi}{ 2b } } \\bigg] \\\\\n",
    "& \\vdots  \\\\\n",
    "& = 3 \\hbar^2 b.\n",
    "\\end{aligned}\n",
    "\\tag{45}\n",
    "\\end{equation}\n",
    "\n",
    "\n"
   ]
  },
  {
   "cell_type": "markdown",
   "id": "5fbe0fc6",
   "metadata": {},
   "source": [
    "Assim, substituindo os resultados obtidos nas Eqs.(41, 45) na Eq.(38), obteremos que:\n",
    "\n",
    "\n",
    "$$\n",
    "\\langle H \\rangle_{\\phi_1} = ... = \\frac{3 \\hbar^2 b}{2m} + \\frac{3m w^2}{8b} \\tag{46}.\n",
    "$$"
   ]
  },
  {
   "cell_type": "markdown",
   "id": "0bb5448c",
   "metadata": {},
   "source": [
    "Segundo o resultado obtido na Eq.(27), este resultado vale para qualquer valor de $b$. Porém, assim como no caso do estado fundamental, queremos achar o valor de $b$ que minimiza este valor médio. Assim, devemos derivar $\\langle H \\rangle_{\\phi_1}$ em relação a $b$ e igualar a zero, de modo que, ao fazermos isso, obtemos\n",
    "\n",
    "$$\n",
    "\\frac{\\partial \\langle H \\rangle_{\\phi_1}}{\\partial b} = \\frac{3 \\hbar^2}{2m} - \\frac{3mw^2}{8b^2} = 0 \\longrightarrow b = \\frac{mw}{2 \\hbar} \\tag{47}.\n",
    "$$\n",
    "\n",
    "- Pode-se mostrar que $\\partial_{bb}\\langle H \\rangle_{\\phi_1} > 0$, logo $b = \\frac{mw}{2 \\hbar}$ é um ponto de mínimo.\n"
   ]
  },
  {
   "cell_type": "markdown",
   "id": "65df029a",
   "metadata": {},
   "source": [
    "\n",
    "Por fim, substituindo este valor na Eq.(46), obtemos, após as devidas manipulações, que\n",
    "\n",
    "$$\n",
    "\\langle H \\rangle_{\\phi_1} = \\hbar w \\frac{3}{2} = \\hbar w \\left(1 + \\frac{1}{2}\\right), \\tag{48}\n",
    "$$\n",
    "que também coincide com o resultado exato, também porquê usamos uma função de onda teste com a mesma forma da função de onda exata.\n"
   ]
  },
  {
   "cell_type": "markdown",
   "id": "75f64a62",
   "metadata": {},
   "source": [
    "-------------------------"
   ]
  },
  {
   "cell_type": "markdown",
   "id": "7e17137e",
   "metadata": {},
   "source": [
    "### Estimativa de erro\n",
    "\n",
    "Como o método variacional é um método aproximado, em algumas situações pode ser útil sabermos qual o erro associado a uma dada função teste. Em outras palavras, dada uma função de teste $\\phi$, qual é o erro, ou o quão longe o resultado obtido está do resultado verdadeiro.\n",
    "\n",
    "Para obtermos uma estimativa para esse erro, começamos escrevendo a função de onda teste como:\n",
    "\n",
    "$$\n",
    "|\\phi \\rangle = \\sum_{n=0}\\alpha_{n}|\\alpha_{n}\\rangle, \\quad \\text{com} \\quad \\sum_{n=0}|\\alpha_{n}|^2 = 1. \\tag{49}\n",
    "$$\n",
    "\n",
    "Aqui, os estados $|\\alpha_{n}\\rangle$ são os autovetores exatos do problema em análise, embora não saibamos de antemão quais são.\n",
    "\n",
    "Se $|\\phi \\rangle$ for igual ao autovetor correspondente ao estado fundamental, então $|\\alpha_0| = 1$. Adicionalmente, quanto mais distante $|\\phi \\rangle$ estiver do autovetor correspondente ao estado fundamental, menor será o valor de $|\\alpha_0|$. Assim, podemos propor a seguinte função:\n",
    "\n",
    "$$\n",
    "\\epsilon(\\phi) := 1 - |\\alpha_0|^2, \\tag{50}\n",
    "$$\n",
    "\n",
    "para quantificar o erro associado a $|\\phi \\rangle$, ou seja, o quão distante está do autovetor correspondente ao estado fundamental.\n"
   ]
  },
  {
   "cell_type": "markdown",
   "id": "ec780f19",
   "metadata": {},
   "source": [
    "Vejamos agora como podemos obter uma expressão para $\\epsilon(\\phi)$ que dependa das energias e do valor médio $\\langle H \\rangle_{\\phi}$. Para isso, vamos analisar a diferença $\\langle H \\rangle_{\\phi} - E_{0}$, onde $E_{0}$ é a energia do estado fundamental. \n",
    "\n",
    "À primeira vista, pode-se questionar por que estamos interessados em calcular essa diferença. Contudo, como ficará mais claro a seguir, a partir dessa diferença podemos obter uma expressão para $\\epsilon(\\phi)$ que depende unicamente das energias e de $\\langle H \\rangle_{\\phi}$. Assim,\n",
    "\n",
    "\\begin{equation}\n",
    "\\begin{aligned}\n",
    "\\langle H \\rangle_{\\phi} - E_{0} & = \\langle \\phi |H| \\phi\\rangle - E_{0} \\\\\n",
    "& = \\sum_{m,n=0} \\alpha_{m}^{*}\\alpha_{n} \\langle \\alpha_{m}| H|\\alpha_{n} \\rangle - E_{0} \\\\\n",
    "& = \\sum_{m,n=0} \\alpha_{m}^{*}\\alpha_{n} E_{n} \\langle \\alpha_{m}|\\alpha_{n} \\rangle - E_{0} \\\\\n",
    "& = \\sum_{m,n=0} \\alpha_{m}^{*}\\alpha_{n} E_{n} \\delta_{m,n} - E_{0} \\\\\n",
    "& = \\sum_{n=0} |\\alpha_{n}|^2 E_{n} - E_{0}  \\\\\n",
    "\\end{aligned}\n",
    "\\tag{51}\n",
    "\\end{equation}"
   ]
  },
  {
   "cell_type": "markdown",
   "id": "26b67d99",
   "metadata": {},
   "source": [
    "Agora, podemos reescrever a Eq.(51), sem perda de generalização, como\n",
    "\n",
    "\n",
    "\\begin{equation}\n",
    "\\begin{aligned}\n",
    "\\langle H \\rangle_{\\phi} - E_{0} & = E_{0}|\\alpha_{0}|^2 + \\sum_{n>0}|\\alpha_n|^2E_n - E_0 \\\\\n",
    "& = -E_{0}(1-|\\alpha_{0}|^2) + \\sum_{n>0}|\\alpha_n|^2E_n.\n",
    "\\end{aligned}\n",
    "\\tag{52}\n",
    "\\end{equation}\n",
    "Agora, como $E_0$ é a menor energia possível, então, a partir da Eq.(52), temos que\n",
    "\n",
    "$$\n",
    "\\langle H \\rangle_{\\phi} - E_{0} \\geqslant \n",
    " -E_{0}(1-|\\alpha_{0}|^2) + E_1\\sum_{n>0}|\\alpha_n|^2.\\tag{53}\n",
    "$$\n",
    "\n",
    "Sem perda de generalização, podemos reescrever a Eq.(53) da seguinte forma:\n",
    "\n",
    "\\begin{equation}\n",
    "\\begin{aligned}\n",
    "\\langle H \\rangle_{\\phi} - E_{0} & \\geqslant \n",
    " -E_{0}(1-|\\alpha_{0}|^2) + E_1\\sum_{n>0}|\\alpha_n|^2 + E_1|\\alpha_0|^2 - E_1|\\alpha_0|^2  \\\\\n",
    "& = -E_{0}(1-|\\alpha_{0}|^2) + E_1\\sum_{n=0}|\\alpha_n|^2 - E_1|\\alpha_0|^2 \\\\\n",
    "& = -E_{0}(1-|\\alpha_{0}|^2) + E_1(1)- E_1|\\alpha_0|^2,\n",
    "\\end{aligned}\n",
    "\\tag{54}\n",
    "\\end{equation}\n",
    "onde a última igualdade vem da normalização da função de onda. Assim, reorganizando os termos da Eq.(54), obtemos que:\n",
    "\n",
    "\n",
    "$$\n",
    "\\langle H \\rangle_{\\phi} - E_{0}  \\geqslant \n",
    " -E_{0}(1-|\\alpha_{0}|^2) + E_1(1- |\\alpha_0|^2) = (E_1-E_0)(1-|\\alpha_{0}|^2)   \\tag{55}\n",
    "$$\n",
    "ou seja,\n",
    "\n",
    "$$\n",
    "\\epsilon(\\phi)  \\leqslant \\frac{\\langle H \\rangle_{\\phi} - E_{0}}{E_1-E_0}. \\tag{56}\n",
    "$$\n",
    "\n",
    "Portanto, para um sistema de interesse descrito pelo hamiltoniano $H$, e conhecidos experimentalmente os valores de $E_0$ e $E_1$, podemos obter um limite superior para o erro $\\epsilon(\\phi)$, dado pela Eq.(56), associado à função de onda teste $|\\phi\\rangle$.\n",
    "\n",
    "--------------------------\n"
   ]
  },
  {
   "cell_type": "markdown",
   "id": "c26233c5",
   "metadata": {},
   "source": [
    "### Resumo\n",
    "\n",
    "De modo resumido, o método variacional consiste em uma técnica empregada para obter as energias do estado fundamental ou excitado quando a solução exata da equação de Schrödinger é difícil ou até mesmo impossível.\n",
    "\n",
    "O funcionamento deste método pode ser resumido no seguinte passo a passo:\n",
    "\n",
    "- Define-se uma função teste $\\phi(\\pmb{b})$, onde $\\pmb{b}$ é um ou alguns parâmetros que devemos otimizar.\n",
    "\n",
    "- Calcula-se o valor médio $\\langle H \\rangle_{\\phi(\\pmb{b})}$.\n",
    "\n",
    "- Otimizamos $\\pmb{b}$ de modo a obter o menor valor possível para $\\langle H \\rangle_{\\phi(\\pmb{b})}$.\n"
   ]
  }
 ],
 "metadata": {
  "kernelspec": {
   "display_name": "Python 3 (ipykernel)",
   "language": "python",
   "name": "python3"
  },
  "language_info": {
   "codemirror_mode": {
    "name": "ipython",
    "version": 3
   },
   "file_extension": ".py",
   "mimetype": "text/x-python",
   "name": "python",
   "nbconvert_exporter": "python",
   "pygments_lexer": "ipython3",
   "version": "3.8.10"
  }
 },
 "nbformat": 4,
 "nbformat_minor": 5
}
