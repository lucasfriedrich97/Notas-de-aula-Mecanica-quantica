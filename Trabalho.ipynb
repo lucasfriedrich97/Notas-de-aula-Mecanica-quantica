{
 "cells": [
  {
   "cell_type": "markdown",
   "id": "905e8d41",
   "metadata": {},
   "source": [
    "# Trabalho sobre a aplicação do método variacional."
   ]
  },
  {
   "cell_type": "markdown",
   "id": "81f9d032",
   "metadata": {},
   "source": [
    "**Questão 1**.\n",
    "\n",
    "Na aula 2, vimos que o **método variacional** é uma técnica aproximativa eficaz para estimar a energia do estado fundamental do átomo de hélio.\n",
    "Agora, considere novamente o átomo de hélio e utilize o método variacional para **estimar a energia do primeiro estado excitado**.\n",
    "\n",
    "**Questão 2**.\n",
    "\n",
    "Ainda considerando o átomo de hélio, **calcule a frequência do fóton emitido** na transição do **primeiro estado excitado** para o **estado fundamental**.\n",
    "\n",
    " "
   ]
  },
  {
   "cell_type": "markdown",
   "id": "3a35a65c",
   "metadata": {},
   "source": [
    "**Questão 3**.\n",
    "\n",
    "Na aula 5, vimos como aplicar o método variacional em computação quântica para estimar a energia do estado fundamental da molécula de hidrogênio ($H_2$). Observamos que, para cada geometria possível da molécula, é necessário usar o VQE (Variational Quantum Eigensolver) para obter o menor valor médio $\\langle H \\rangle$. Nesta atividade, vamos considerar uma abordagem mais avançada, em que a **geometria da molécula também é tratada como um problema de otimização**[1](https://arxiv.org/abs/2106.13840). O **código parcial fornecido ao final da questão** aplica o VQE ao estudo do $H_2$, otimizando tanto os parâmetros do circuito quanto a geometria da molécula. Ou seja, o código busca a **geometria de menor energia** que **estabiliza** a molécula de hidrogênio.\n",
    "\n",
    "Tarefas:\n",
    "\n",
    "1) Execute o código fornecido no Google Colab e utilize-o para **obter a melhor geometria possível** da molécula de hidrogênio.\n",
    "\n",
    "2) Compare a geometria obtida ao final da simulação com a melhor geometria discutida na aula 5.\n",
    "- Elas são iguais ou diferentes?\n",
    "- Explique a possível causa da semelhança ou diferença.\n",
    "\n",
    "3) Por que o estado inicial é $|1100\\rangle$?\n",
    "\n",
    "4) Qual foi o motivo da escolha da parametrização $U$ usada no circuito variacional?\n",
    "\n",
    "5) Podemos usar o seguinte estado de teste?\n",
    "\n",
    "$$|\\psi \\rangle = \\alpha_0|0000\\rangle + \\alpha_1|0001\\rangle + \\alpha_2|0011\\rangle + \\alpha_3|0101\\rangle.\n",
    "$$\n",
    "\n",
    "- Justifique.\n",
    "\n",
    "6) Após obter a melhor geometria, **compare o valor médio $\\langle H \\rangle$** com aquele obtido na aula 5.\n",
    "\n",
    "- Os valores são iguais?\n",
    "\n",
    "- Se forem diferentes, qual seria uma possível explicação? (Dica: Erros numéricos e tolerâncias de convergência podem afetar os resultados.)\n",
    "\n",
    "**OBS**: Para rodar o código no Google Colab, instale o PennyLane com o seguinte comando no início da célula: ``!pip install pennylane``"
   ]
  },
  {
   "cell_type": "markdown",
   "id": "b8dc7847",
   "metadata": {},
   "source": [
    "----------------"
   ]
  },
  {
   "cell_type": "markdown",
   "id": "55854ae6",
   "metadata": {},
   "source": [
    "##### Espaço para feedback – Avaliação das aulas (Resposta opcional)\n",
    "\n",
    "Gostaria que você escrevesse, a partir do seu ponto de vista, o que achou das aulas ministradas. Conte o que gostou, o que funcionou bem e, principalmente, o que você acha que poderia ser melhorado."
   ]
  },
  {
   "cell_type": "code",
   "execution_count": null,
   "id": "14056cd7",
   "metadata": {},
   "outputs": [],
   "source": [
    "import pennylane as qml\n",
    "from pennylane import numpy as np\n",
    "import matplotlib.pyplot as plt\n",
    "from tqdm import trange\n",
    "\n",
    "qubits = 'Defina aqui o número de qubits necessários'\n",
    "\n",
    "dev = qml.device(\"default.qubit\", wires=qubits)\n",
    "\n",
    "@qml.qnode(dev)\n",
    "def Circuit(x, theta):\n",
    "    symbols = [\"H\", \"H\"]\n",
    "    \n",
    "    H = qml.qchem.molecular_hamiltonian(symbols, x)[0]\n",
    "    \n",
    "    electrons = 2\n",
    "    hf = qml.qchem.hf_state(electrons, qubits)\n",
    "    \n",
    "    qml.BasisState(hf, wires=range(qubits))\n",
    "    '''\n",
    "    Defina aqui a parametrização U que você acha que deve ser usada\n",
    "    '''\n",
    "    \n",
    "    return qml.expval(H)\n",
    "\n",
    "\n",
    "def Grad_X(x, theta, eta, function, delta):\n",
    "    dx = np.zeros(x.shape)\n",
    "    f1 = function(x,theta)\n",
    "    for i in range(x.shape[0]):\n",
    "        for j in range(x.shape[1]):\n",
    "            x1 = x.copy()\n",
    "            x1[i][j] += delta\n",
    "            f2 = function(x1,theta)\n",
    "            dx[i][j] = (f2-f1)/delta\n",
    "    return dx   \n",
    "\n",
    "\n",
    "np.random.seed(42)\n",
    "x = np.random.random((2,3))#Gera uma geometria inicial aleatória \n",
    "\n",
    "theta = np.random.random('Aqui deve ser informado quantos parâmetros U vai ter')\n",
    "\n",
    "eta = 'Defina aqui a taxa de aprendizado'\n",
    "epocas = 'Defina aqui o número de épocas'\n",
    "delta = 'Defina aqui aqui o valor de detal usada para a diferenciação'\n",
    "\n",
    "\n",
    "opt = qml.GradientDescentOptimizer(stepsize=eta)\n",
    "\n",
    "energia = []\n",
    "for i in trange(epocas):\n",
    "    #calcula o valor medio\n",
    "    energia.append( Circuit(x,theta) )\n",
    "    \n",
    "    #gradiente de x\n",
    "    dx = Grad_X(x, theta, eta, Circuit, delta)\n",
    "    \n",
    "    #gradiente de theta\n",
    "    theta = opt.step(lambda theta: Circuit(x,theta), theta)\n",
    "    \n",
    "    # atualiza x\n",
    "    x = x - eta*dx\n",
    "\n",
    "    \n",
    "    \n",
    "y = np.array(energia)\n",
    "z = np.arange(len(y))\n",
    "plt.plot(z,y)\n",
    "plt.ylabel(r'\\langle H \\rangle')\n",
    "plt.xlabel('Épocas')\n",
    "plt.show()"
   ]
  }
 ],
 "metadata": {
  "kernelspec": {
   "display_name": "Python 3 (ipykernel)",
   "language": "python",
   "name": "python3"
  },
  "language_info": {
   "codemirror_mode": {
    "name": "ipython",
    "version": 3
   },
   "file_extension": ".py",
   "mimetype": "text/x-python",
   "name": "python",
   "nbconvert_exporter": "python",
   "pygments_lexer": "ipython3",
   "version": "3.8.10"
  }
 },
 "nbformat": 4,
 "nbformat_minor": 5
}
