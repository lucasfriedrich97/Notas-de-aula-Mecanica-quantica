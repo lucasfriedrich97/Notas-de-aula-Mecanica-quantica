{
 "cells": [
  {
   "cell_type": "markdown",
   "id": "665f7537",
   "metadata": {},
   "source": [
    "# Introdução\n",
    "\n",
    "Nesta aula, veremos como utilizar o Variational Quantum Eigensolver (VQE) para obter uma estimativa da energia do estado fundamental de uma molécula. Especificamente, consideraremos aqui a molécula de hidrogênio ($H_2$).\n",
    "\n",
    "O VQE é uma aplicação dos algoritmos quânticos variacionais (VQAs), que consistem na implementação do método variacional em computação quântica, voltado para uma classe específica de problemas — neste caso, a estimativa da energia do estado fundamental.\n",
    "\n",
    "Seu funcionamento é, portanto, semelhante ao dos VQAs em geral: trata-se de um método iterativo no qual um otimizador clássico é utilizado para ajustar os parâmetros de um circuito quântico — que gera um estado teste $|\\psi_{\\pmb{\\theta}}\\rangle$ — de forma a minimizar uma função de custo, como ilustrado na figura a seguir.\n"
   ]
  },
  {
   "cell_type": "markdown",
   "id": "032647ed",
   "metadata": {},
   "source": [
    "<img src=\"vqaIlustracao.png\" width=\"900px\">\n",
    "Fonte: https://doi.org/10.1103/RevModPhys.94.015004"
   ]
  },
  {
   "cell_type": "markdown",
   "id": "9c9d433d",
   "metadata": {},
   "source": [
    "Para entendermos como o VQE é utilizado na resolução desta tarefa, adotaremos uma abordagem inversa. Ou seja, em vez de iniciarmos com a parte teórica para, em seguida, passarmos à prática, começaremos pela prática e, depois, analisaremos em detalhes o que está acontecendo em cada etapa.\n",
    "\n",
    "Assim, a seguir, apresentamos o código utilizado para estimar o menor valor médio de energia da molécula de hidrogênio."
   ]
  },
  {
   "cell_type": "markdown",
   "id": "2c5b3bbd",
   "metadata": {},
   "source": [
    "# Código principal"
   ]
  },
  {
   "cell_type": "markdown",
   "id": "cd25230c",
   "metadata": {},
   "source": [
    "**Primeiramente**, neste momento, **vamos apenas executar o código** e observar o que acontece. Em seguida, analisaremos cada parte do código para entender seu funcionamento e propósito."
   ]
  },
  {
   "cell_type": "code",
   "execution_count": 1,
   "id": "3f621131",
   "metadata": {},
   "outputs": [
    {
     "data": {
      "image/png": "[encoded data removed]",
      "text/plain": [
       "<Figure size 640x480 with 1 Axes>"
      ]
     },
     "metadata": {},
     "output_type": "display_data"
    }
   ],
   "source": [
    "import pennylane as qml\n",
    "from pennylane import numpy as np\n",
    "import matplotlib.pyplot as plt\n",
    "\n",
    "symbols = [\"H\", \"H\"]\n",
    "x = np.array([[0.0, 0.0, -0.6614], [0.0, 0.0, 0.6614]])\n",
    "H, qubits = qml.qchem.molecular_hamiltonian(symbols, x)\n",
    "\n",
    "\n",
    "electrons = 2\n",
    "hf = qml.qchem.hf_state(electrons, qubits)\n",
    "\n",
    "\n",
    "def circuit(theta, wires):\n",
    "    qml.BasisState(hf, wires=wires)\n",
    "    qml.DoubleExcitation(theta, wires=[0, 1, 2, 3])\n",
    "    \n",
    "    \n",
    "dev = qml.device(\"default.qubit\", wires=qubits)\n",
    "\n",
    "@qml.qnode(dev)\n",
    "def cost_fn(theta):\n",
    "    circuit(theta, wires=range(qubits))\n",
    "    return qml.expval(H)\n",
    "\n",
    "\n",
    "epocas = 40\n",
    "opt = qml.GradientDescentOptimizer(stepsize=0.1)\n",
    "theta = np.array(0.)\n",
    "energia = []\n",
    "for n in range(epocas):\n",
    "    theta, prev_energy = opt.step_and_cost(cost_fn, theta)\n",
    "    energia.append(prev_energy.item())\n",
    "\n",
    "    \n",
    "y = np.array(energia)\n",
    "x = np.arange(len(y))\n",
    "\n",
    "n = len(y)\n",
    "\n",
    "plt.plot(x,y)\n",
    "plt.ylabel(r'$\\langle H \\rangle_{\\psi(\\theta)}$')\n",
    "plt.xlabel('Épocas')\n",
    "plt.show()"
   ]
  },
  {
   "cell_type": "markdown",
   "id": "53ed57df",
   "metadata": {},
   "source": [
    "Este gráfico mostra o comportamento do valor médio $\\langle H \\rangle_{\\psi(\\theta)}$, considerando uma função teste $|\\psi(\\theta)\\rangle$, ao longo do treinamento. Como podemos observar, esse valor médio inicia em aproximadamente $-1{,}1175$ e, à medida que o treinamento é realizado — ou seja, à medida que o parâmetro $\\theta$ é otimizado —, o valor médio diminui.\n",
    "\n",
    "Esse comportamento de decaimento indica que o código está funcionando corretamente, pois é exatamente esse o objetivo: minimizar o valor médio da energia."
   ]
  },
  {
   "cell_type": "markdown",
   "id": "f8df68de",
   "metadata": {},
   "source": [
    "# Vejamos o que está acontecendo, passo a passo."
   ]
  },
  {
   "cell_type": "markdown",
   "id": "f4905906",
   "metadata": {},
   "source": [
    "A seguir, veremos, passo a passo, o que está acontecendo no código utilizado para obter o menor valor médio $\\langle H \\rangle_{\\psi(\\theta)}$.\n"
   ]
  },
  {
   "cell_type": "markdown",
   "id": "a275ff4f",
   "metadata": {},
   "source": [
    "## 1 - Preparação do Hamiltoniano"
   ]
  },
  {
   "cell_type": "markdown",
   "id": "ac67a968",
   "metadata": {},
   "source": [
    "Quando usamos o VQE para estudar uma molécula, nossa primeira tarefa é obter o Hamiltoniano molecular que a descreve. No caso da molécula de hidrogênio, sabemos que o Hamiltoniano é dado por:\n",
    "\n",
    "$$\n",
    "H = - \\frac{\\hbar^2}{2m_e}\\big( \\nabla_{1}^2 + \\nabla_{2}^2 \\big) - ke^2 \\bigg( \\frac{1}{r_1} + \\frac{1}{r_2} + \\frac{1}{r_1'} + \\frac{1}{r_2'} - \\frac{1}{r_{12}} - \\frac{1}{R} \\bigg). \\tag{1}\n",
    "$$\n",
    "\n",
    "Todavia, ao utilizarmos o VQE para estudar o $H_2$, devemos empregar o Hamiltoniano na formulação da **segunda quantização**  [1](https://en.wikipedia.org/wiki/Second_quantization). Nessa formulação, o Hamiltoniano de uma molécula é dado por:\n",
    "\n",
    "$$\n",
    "H(\\pmb{x}) = \\sum_{pq}h_{pq}(\\pmb{x})C_{p}^{\\dagger}C_{q} + \\frac{1}{2} \\sum_{pqrs}h_{pqrs}(\\pmb{x})C_{p}^{\\dagger}C_{q}^{\\dagger}C_rC_s, \\tag{2}\n",
    "$$\n",
    "onde $\\pmb{x}$ representa os parâmetros que descrevem a geometria da molécula, e os índices da soma na Eq. (2) são definidos com base em orbitais moleculares calculados segundo a aproximação de Hartree-Fock. Os operadores $C_{j}^{\\dagger}$ e $C_{j}$ são, respectivamente, os operadores de criação e aniquilação, e obedecem às seguintes relações de anticomutação:\n",
    "$$\n",
    "\\{ C_{j}, C_{j'}^{\\dagger} \\} = \\delta_{j,j'} \\tag{3}\n",
    "$$\n",
    "e\n",
    "\n",
    "$$\n",
    "\\{ C_{j}, C_{j'} \\} = 0 \\tag{4}.\n",
    "$$\n"
   ]
  },
  {
   "cell_type": "markdown",
   "id": "5ed08490",
   "metadata": {},
   "source": [
    "Porém, não basta obtermos o Hamiltoniano descrito pela Eq. [2]. Na verdade, após essa etapa, é necessário transformá-lo em uma forma que um computador quântico seja capaz de processar. Existem diversas maneiras de realizar essa conversão, mas uma das mais utilizadas é por meio da **Transformação de Jordan-Wigner**.\n",
    "\n",
    "Essa transformação permite expressar os operadores de criação ($C_{j}^{\\dagger}$) e aniquilação ($C_{j}$) em termos dos operadores (ou matrizes) de Pauli $\\{I, \\sigma_{x}, \\sigma_{y}, \\sigma_{z}\\}$, de modo que:\n",
    "\n",
    "\n",
    "$$\n",
    "C_{j}^{\\dagger} \\Leftrightarrow \\sigma_{z}^{\\otimes (j-1)} \\otimes \\sigma^{-} \\otimes I^{\\otimes(N-j)}\\tag{5}\n",
    "$$\n",
    "\n",
    "e\n",
    "\n",
    "$$\n",
    "C_{j} \\Leftrightarrow \\sigma_{z}^{\\otimes (j-1)} \\otimes \\sigma^{+} \\otimes I^{\\otimes(N-j)},\\tag{6}\n",
    "$$\n",
    "\n",
    "onde\n",
    "\n",
    "$$\n",
    "\\sigma^{+} \\equiv \\frac{ \\sigma_x + i \\sigma_y }{2} \\quad \\text{e} \\quad \\sigma^{-} \\equiv \\frac{ \\sigma_x - i \\sigma_y }{2}.\\tag{7}\n",
    "$$\n"
   ]
  },
  {
   "cell_type": "markdown",
   "id": "e8387849",
   "metadata": {},
   "source": [
    "Após essa transformação, obteremos um Hamiltoniano na seguinte forma:\n",
    "\n",
    "$$\n",
    "H(\\pmb{x}) = \\sum_{j}h_{j}(\\pmb{x})P_j,\\tag{8}\n",
    "$$\n",
    "onde $P_j$ são as *Pauli strings* — produtos de todas as combinações possíveis dos operadores de Pauli — e $h_{j}(\\pmb{x})$ são coeficientes que dependem das coordenadas $\\pmb{x}$ e que ponderam a relevância de cada Pauli string.\n",
    "\n",
    "Dessa forma, obtemos um Hamiltoniano que pode ser processado por um computador quântico.\n",
    "\n",
    "**Mas como isso é feito no código acima?** Todo esse processo descrito até agora é realizado pelo seguinte trecho de código:"
   ]
  },
  {
   "cell_type": "code",
   "execution_count": 3,
   "id": "1d07b141",
   "metadata": {},
   "outputs": [],
   "source": [
    "symbols = [\"H\", \"H\"] # Aqui definimos que tipo de molecula iremos tratar\n",
    "x = np.array([[0.0, 0.0, -0.6614], [0.0, 0.0, 0.6614]])#As coordenadas dos átomos da molecula\n",
    "\n",
    "# cria o Hamiltoniano e também retorna o número de qubits necessários para isso\n",
    "H, qubits = qml.qchem.molecular_hamiltonian(symbols, x)"
   ]
  },
  {
   "cell_type": "markdown",
   "id": "f2cf9e26",
   "metadata": {},
   "source": [
    "Ou seja, para obtermos o Hamiltoniano, basta definirmos o tipo de molécula que queremos analisar — neste caso, feito com ``symbols = [\"H\", \"H\"]`` — e as coordenadas dos átomos dessa molécula, que, neste exemplo, são dadas por ``x = np.array([[0.0, 0.0, -0.6614], [0.0, 0.0, 0.6614]])``.\n",
    "\n",
    "Com isso, todo o processo necessário para obter o Hamiltoniano na forma apresentada na Eq. [8] é realizado automaticamente pela função ``H, qubits = qml.qchem.molecular_hamiltonian(symbols, x)``.\n"
   ]
  },
  {
   "cell_type": "code",
   "execution_count": 4,
   "id": "ce861a77",
   "metadata": {},
   "outputs": [
    {
     "name": "stdout",
     "output_type": "stream",
     "text": [
      "  (-0.2427450126094144) [Z2]\n",
      "+ (-0.2427450126094144) [Z3]\n",
      "+ (-0.042072551947439224) [I0]\n",
      "+ (0.1777135822909176) [Z0]\n",
      "+ (0.1777135822909176) [Z1]\n",
      "+ (0.12293330449299361) [Z0 Z2]\n",
      "+ (0.12293330449299361) [Z1 Z3]\n",
      "+ (0.16768338855601356) [Z0 Z3]\n",
      "+ (0.16768338855601356) [Z1 Z2]\n",
      "+ (0.17059759276836803) [Z0 Z1]\n",
      "+ (0.1762766139418181) [Z2 Z3]\n",
      "+ (-0.044750084063019925) [Y0 Y1 X2 X3]\n",
      "+ (-0.044750084063019925) [X0 X1 Y2 Y3]\n",
      "+ (0.044750084063019925) [Y0 X1 X2 Y3]\n",
      "+ (0.044750084063019925) [X0 Y1 Y2 X3]\n"
     ]
    }
   ],
   "source": [
    "print(H)"
   ]
  },
  {
   "cell_type": "markdown",
   "id": "f7d32c2d",
   "metadata": {},
   "source": [
    "Acima, imprimimos o Hamiltoniano para a molécula de $H_2$, considerando as coordenadas definidas anteriormente. Neste contexto, a letra indica qual matriz de Pauli está sendo utilizada, e o número corresponde ao índice do qubit onde essa matriz atua.\n",
    "\n",
    "Mais informações sobre a preparação do Hamiltoniano podem ser encontradas na referência [2]( https://arxiv.org/html/2505.04768v1).\n"
   ]
  },
  {
   "cell_type": "markdown",
   "id": "73ea0492",
   "metadata": {},
   "source": [
    "## 2 - Preparação do estado inicial\n",
    "\n",
    "Por padrão, todos os qubits de um algoritmo quântico iniciam no estado $|0\\rangle$. Em outras palavras, nosso estado inicial é $|0\\rangle^{\\otimes N}$. Portanto, após obtermos o Hamiltoniano que descreve a molécula de interesse, a próxima etapa é preparar o estado inicial. Para isso, precisamos saber quantos qubits serão necessários para trabalhar com a molécula em questão.\n",
    "\n",
    "Assim como o Hamiltoniano é obtido automaticamente pelo Pennylane — bastando informar a molécula e as coordenadas dos átomos —, o número de qubits necessários também é retornado pela função ``H, qubits = qml.qchem.molecular_hamiltonian(symbols, x)``. Para mais detalhes sobre como esse número é calculado, uma possível referência é [2]( https://arxiv.org/html/2505.04768v1).\n",
    "\n",
    "No caso do $H_2$, são necessários 4 qubits. Assim, nosso estado inicial do algoritmo será $|0000\\rangle$. É importante **observar** que, embora este seja o **estado inicial do algoritmo quântico**, ele **não corresponde ao estado inicial que representa a molécula** em estudo.\n",
    "\n",
    "Na verdade, o estado inicial que descreve a molécula em análise é construído da seguinte forma: considere uma molécula com $k$ elétrons, para a qual são necessários $n$ qubits. O estado inicial é obtido colocando os $k$ primeiros qubits no estado $|1\\rangle$ e os demais $n-k$ qubits no estado $|0\\rangle$.\n",
    "\n",
    "Ou seja, para o caso da molécula $H_2$, que possui 2 elétrons e requer 4 qubits, o estado inicial será dado por:\n",
    "\n",
    "\n",
    "$$\n",
    "|\\psi_1\\rangle = |1100\\rangle.\\tag{9}\n",
    "$$\n",
    "\n",
    "Este estado inicial é chamado de **estado de Hartree-Fock**, pois ele é derivado do **método de Hartree-Fock**, um método aproximado amplamente utilizado para resolver o mesmo problema que o VQE busca resolver: a determinação do estado fundamental de uma molécula."
   ]
  },
  {
   "cell_type": "markdown",
   "id": "918d89c6",
   "metadata": {},
   "source": [
    "\n",
    "- Para reforçar essa ideia, considere que, em vez de estudarmos o $H_2$, analisemos o íon $H_2^{+}$. Nesse caso, também precisaríamos de 4 qubits, porém, como há apenas um elétron, o estado inicial seria $|\\psi_1\\rangle = |1000\\rangle$.\n"
   ]
  },
  {
   "cell_type": "markdown",
   "id": "14fa6cd9",
   "metadata": {},
   "source": [
    "No nosso código principal, isso é feito no seguinte trecho:"
   ]
  },
  {
   "cell_type": "code",
   "execution_count": 5,
   "id": "266fafa2",
   "metadata": {},
   "outputs": [],
   "source": [
    "electrons = 2\n",
    "hf = qml.qchem.hf_state(electrons, qubits)"
   ]
  },
  {
   "cell_type": "markdown",
   "id": "48d88acf",
   "metadata": {},
   "source": [
    "Na verdade, o que esse trecho do código faz é obter o rótulo do nosso estado inicial, que, no caso da Eq. [9], corresponde à sequência ``1100``, como pode ser observado ao imprimir ``hf`` abaixo."
   ]
  },
  {
   "cell_type": "code",
   "execution_count": 6,
   "id": "2ec929f0",
   "metadata": {},
   "outputs": [
    {
     "data": {
      "text/plain": [
       "tensor([1, 1, 0, 0], requires_grad=True)"
      ]
     },
     "execution_count": 6,
     "metadata": {},
     "output_type": "execute_result"
    }
   ],
   "source": [
    "hf"
   ]
  },
  {
   "cell_type": "markdown",
   "id": "ba905ddb",
   "metadata": {},
   "source": [
    "Esse rótulo, por sua vez, é passado para a função ``def circuit(param, wires)``, que a partir dele cria o estado inicial descrito na Eq. [9], utilizando a seguinte linha de comando: ``qml.BasisState(hf, wires=wires)``.\n"
   ]
  },
  {
   "cell_type": "markdown",
   "id": "b2a5cd9c",
   "metadata": {},
   "source": [
    "## 3 - Parametrização  \n",
    "\n",
    "Agora que temos nosso estado inicial, descrito pela Eq. [9], precisamos construir a parametrização $U(\\pmb{\\theta})$, tal que:\n",
    "\n",
    "$$\n",
    "|\\psi\\rangle = U(\\pmb{\\theta})|\\psi_1\\rangle =  U(\\pmb{\\theta})|1100\\rangle.\\tag{10}\n",
    "$$"
   ]
  },
  {
   "cell_type": "markdown",
   "id": "a9a8aecf",
   "metadata": {},
   "source": [
    "A princípio, a parametrização $U(\\pmb{\\theta})$ pode assumir qualquer forma, ou seja, a escolha das portas lógicas quânticas usadas e sua ordem é livre. Por exemplo, ao trabalharmos com VQAs, é muito comum definirmos essa parametrização da seguinte forma:\n",
    "\n",
    "$$\n",
    "U(\\pmb{\\theta}) = \\prod_{i=1}^{L}U_{i}(\\pmb{\\theta}_i),\\tag{11}\n",
    "$$\n",
    "onde $U_{i}(\\pmb{\\theta}_i)$ são chamadas de camadas, e elas são construídas a partir de um conjunto de portas lógicas quânticas — sendo que todas as camadas utilizam o mesmo conjunto, com a única diferença nos parâmetros $\\pmb{\\theta}_i$ aplicados em cada uma. Na figura abaixo, mostramos alguns exemplos de como essas camadas podem ser construídas."
   ]
  },
  {
   "cell_type": "markdown",
   "id": "6639489a",
   "metadata": {},
   "source": [
    "\n",
    "<img src=\"U_exemplo.png\" width=\"1000px\">"
   ]
  },
  {
   "cell_type": "markdown",
   "id": "a73c5ee5",
   "metadata": {},
   "source": [
    "Porém, um **problema** com a forma de obtermos $U(\\pmb{\\theta})$ usando a Eq. [11] é que, independentemente do estado inicial $|\\psi_1\\rangle$, o estado evoluído $|\\psi\\rangle$ terá a seguinte forma:\n",
    "\n",
    "$$\n",
    "|\\psi \\rangle = \\sum_{j_0,j_1,...,j_n=0}^1\\alpha_{j_0,j_1,...,j_n}|j_0,j_1,...,j_n\\rangle.\\tag{12}\n",
    "$$\n",
    "\n",
    "Por exemplo, para um algoritmo com quatro qubits, teremos o seguinte estado evoluído:\n",
    "\n",
    "$$\n",
    "|\\psi \\rangle = \\alpha_0|0000\\rangle + \\alpha_1|0001\\rangle + \\alpha_2|0010\\rangle + \\alpha_3|0011\\rangle + \\alpha_4|0100\\rangle + \\alpha_5|0101\\rangle + \\alpha_6|0110\\rangle + \\alpha_7|0111\\rangle +  ... \\tag{13}\n",
    "$$"
   ]
  },
  {
   "cell_type": "markdown",
   "id": "cd4c25e6",
   "metadata": {},
   "source": [
    "**Mas qual é o problema com isso?**"
   ]
  },
  {
   "cell_type": "markdown",
   "id": "74723b0d",
   "metadata": {},
   "source": [
    "Quando usamos o VQE, os elétrons da molécula em análise são mapeados para os qubits de modo que, para cada elétron da molécula, um qubit seja colocado no estado $|1\\rangle$. Por exemplo, a seguir são apresentados alguns estados e o número de elétrons que cada um representa:\n",
    "\n",
    "$$\n",
    "|1000\\rangle \\longrightarrow \\text{1 elétron}, \\quad |0010\\rangle \\longrightarrow \\text{1 elétron}, \\quad |1001\\rangle \\longrightarrow \\text{2 elétrons},  \\quad |1101\\rangle \\longrightarrow \\text{3 elétrons}, \\quad |1111\\rangle \\longrightarrow \\text{4 elétrons}. \n",
    "$$\n",
    "\n",
    "\n",
    "\n",
    "\n",
    "\n",
    "\n",
    "\n",
    "\n",
    "\n"
   ]
  },
  {
   "cell_type": "markdown",
   "id": "6a7a5dcd",
   "metadata": {},
   "source": [
    "Portanto, como estamos usando o VQE para analisar uma molécula cujo **número de elétrons não varia**, precisamos garantir que o estado evoluído represente exatamente esse número de elétrons.\n",
    "\n",
    "Assim, para o $H_2$, não podemos utilizar uma parametrização que leve ao estado evoluído descrito pela Eq. [12], pois esse estado contém autovetores inválidos — ou seja, que não correspondem ao número correto de elétrons. Especificamente, os seguintes autovetores são problemáticos:\n",
    "\n",
    "$$\n",
    "|\\psi \\rangle = \\color{red}{\\alpha_0|0000\\rangle} + \\color{red}{\\alpha_1|0001\\rangle} + \\color{red}{\\alpha_2|0010\\rangle} + \\alpha_3|0011\\rangle + \\color{red}{\\alpha_4|0100\\rangle} + \\alpha_5|0101\\rangle + \\alpha_6|0110\\rangle + \\color{red}{\\alpha_7|0111\\rangle} +  ... \\tag{14}\n",
    "$$"
   ]
  },
  {
   "cell_type": "markdown",
   "id": "8065790d",
   "metadata": {},
   "source": [
    "**Então, como construímos $U(\\pmb{\\theta})$?**\n",
    "\n",
    "A princípio, qualquer forma que preserve o número de elétrons é válida. Ou seja, dado um $U(\\pmb{\\theta})$, se todos os autovetores do estado evoluído mantêm o número de elétrons preservado, então $U(\\pmb{\\theta})$ é válido. Contudo, algumas formas são mais utilizadas ao lidarmos com esse tipo de problema. Especificamente, usam-se as chamadas **Rotações de Givens**, que consistem em operações que preservam o número de elétrons.\n",
    "\n",
    "No Pennylane, existem duas funções 'primitivas' usadas para construir parametrizações que preservam o número de elétrons, são elas:\n",
    "\n",
    "\n",
    "- `` SingleExcitation``: Esta é uma operação que atua em dois qubits de modo que:\n",
    "\n",
    "$$\n",
    "G|01\\rangle = a|01\\rangle+b|10\\rangle, \\tag{15}\n",
    "$$\n",
    "\n",
    "$$\n",
    "G|10\\rangle = c|10\\rangle+d|01\\rangle, \\tag{16}\n",
    "$$\n",
    "\n",
    "onde\n",
    "\n",
    "$$\n",
    "G = G(\\theta) = \\begin{bmatrix}\n",
    "1 & 0 & 0 & 0  \\\\\n",
    "0 & \\cos(\\theta/2) & -\\sin(\\theta/2) & 0 \\\\\n",
    "0 & \\sin(\\theta/2) & \\cos(\\theta/2) & 0 \\\\\n",
    "0 & 0 & 0 & 1\n",
    "\\end{bmatrix} \\tag{17}\n",
    "$$"
   ]
  },
  {
   "cell_type": "markdown",
   "id": "65125c56",
   "metadata": {},
   "source": [
    "- ``DoubleExcitation``: Esta é uma operação que atua em quatro qubits de modo que:\n",
    "\n",
    "$$\n",
    "G^{(2)}|0011\\rangle = \\cos(\\theta/2)|0011\\rangle + \\sin(\\theta/2)|1100\\rangle, \\tag{18}\n",
    "$$\n",
    "\n",
    "$$\n",
    "G^{(2)}|1100\\rangle = \\cos(\\theta/2)|1100\\rangle - \\sin(\\theta/2)|0011\\rangle. \\tag{19}\n",
    "$$"
   ]
  },
  {
   "cell_type": "markdown",
   "id": "4f7025f0",
   "metadata": {},
   "source": [
    "Para mais informações veja: https://pennylane.ai/qml/demos/tutorial_givens_rotations. "
   ]
  },
  {
   "cell_type": "markdown",
   "id": "70e75c55",
   "metadata": {},
   "source": [
    "Voltando ao nosso código principal, a construção da parametrização é feita dentro da função ``def circuit(param, wires)``, onde aplicamos especificamente as transformações descritas nas Eqs. [18] e [19]. Isso é realizado por meio da seguinte linha de comando: ``qml.DoubleExcitation(param, wires=[0, 1, 2, 3])``."
   ]
  },
  {
   "cell_type": "markdown",
   "id": "d89f1245",
   "metadata": {},
   "source": [
    "Como nosso estado inicial é dado pela Eq. [9], ao aplicarmos a transformação $G^{(2)}$, o estado evoluído que obteremos será o descrito na Eq. [19]."
   ]
  },
  {
   "cell_type": "markdown",
   "id": "9fd06b26",
   "metadata": {},
   "source": [
    "Usando a notação de circuito para visualizar nosso algoritmo, temos o seguinte:"
   ]
  },
  {
   "cell_type": "code",
   "execution_count": 7,
   "id": "22554a85",
   "metadata": {},
   "outputs": [
    {
     "data": {
      "image/png": "[encoded data removed]",
      "text/plain": [
       "<Figure size 500x500 with 1 Axes>"
      ]
     },
     "metadata": {},
     "output_type": "display_data"
    }
   ],
   "source": [
    "fig, ax = qml.draw_mpl(cost_fn)(1)\n",
    "plt.show()"
   ]
  },
  {
   "cell_type": "markdown",
   "id": "869451c0",
   "metadata": {},
   "source": [
    "**OBS**: Quando criamos um algoritmo quântico e o executamos em um computador quântico real, a primeira etapa é a transpilação. Isso significa que o circuito do nosso algoritmo será reescrito para utilizar apenas o conjunto de portas lógicas quânticas que o computador consegue implementar. Em geral, esse conjunto depende do computador quântico específico, pois diferentes computadores utilizam conjuntos distintos.\n",
    "\n",
    "Todavia, é comum que esse conjunto inclua portas de rotação e CNOT.\n",
    "\n",
    "A seguir, mostramos como esse circuito fica em termos de portas fundamentais, especificamente as portas de rotação, CNOT e X."
   ]
  },
  {
   "cell_type": "markdown",
   "id": "4a2f5074",
   "metadata": {},
   "source": [
    "<img src=\"circuitoDecomposto2.png\" width=\"1400px\">"
   ]
  },
  {
   "cell_type": "markdown",
   "id": "a84ba977",
   "metadata": {},
   "source": [
    "-------------"
   ]
  },
  {
   "cell_type": "markdown",
   "id": "0c469f8a",
   "metadata": {},
   "source": [
    "**Uma observação muito importante** sobre a escolha de $U$ diz respeito à sua **expressividade**. A expressividade está associada ao número de estados distintos que conseguimos gerar usando $U$. Quanto maior esse número, mais expressivo é $U$.\n",
    "\n",
    "**Por que isso é importante?**\n",
    "\n",
    "Nossa principal tarefa ao usarmos um VQE é encontrar o estado $|\\psi\\rangle$ que minimiza o valor médio $\\langle H \\rangle_{\\psi} = \\langle \\psi | H | \\psi \\rangle$. Porém, não sabemos a priori qual é esse estado $|\\psi\\rangle$. Em outras palavras, precisamos escolher $U$ o mais expressivo possível, pois assim, mesmo sem sabermos exatamente qual estado $|\\psi\\rangle$ deve ser gerado, sabemos que $U$ é capaz de gerá-lo.\n",
    "\n",
    "A figura a seguir mostra, de forma clara, a relação entre a parametrização $U$ escolhida e sua expressividade.\n",
    "a) Apresenta quatro diferentes circuitos de um qubit, cada um obtido usando um conjunto distinto de portas lógicas quânticas.\n",
    "b) Mostra a representação na **esfera de Bloch** dos estados que cada circuito pode gerar. Cada estado é representado por um ponto roxo."
   ]
  },
  {
   "cell_type": "markdown",
   "id": "5364772d",
   "metadata": {},
   "source": [
    "\n",
    "<img src=\"expressividade.png\" width=\"1000px\">\n",
    "Fonte:  \t\n",
    "https://doi.org/10.1002/qute.201900070"
   ]
  },
  {
   "cell_type": "markdown",
   "id": "882dcd6c",
   "metadata": {},
   "source": [
    "Como a figura acima mostra, dependendo da escolha de $U$, o número de estados uniformemente gerados varia. Para parametrizações com maior expressividade, mais estados são gerados de forma uniforme."
   ]
  },
  {
   "cell_type": "markdown",
   "id": "38166c48",
   "metadata": {},
   "source": [
    "---\n",
    "\n",
    "No nosso caso, em que temos um circuito com quatro qubits e dois elétrons, a parametrização $U$ mais geral possível é aquela que transforma nosso estado inicial $|\\psi_1\\rangle$, descrito pela Eq. [9], em um estado do tipo"
   ]
  },
  {
   "cell_type": "markdown",
   "id": "c6ef470c",
   "metadata": {},
   "source": [
    "\n",
    "$$\n",
    "|\\psi \\rangle = \\alpha_1 |0011\\rangle + \\alpha_2 |0101\\rangle + \\alpha_3|0110\\rangle + \\alpha_4 |1001\\rangle + \\alpha_5 |1010\\rangle + \\alpha_6 |1100\\rangle \\tag{20},\n",
    "$$\n",
    "pois assim poderemos gerar todos os estados possíveis, considerando a restrição de que o número de qubits no estado $|1\\rangle$ deve ser igual ao número de elétrons da molécula."
   ]
  },
  {
   "cell_type": "markdown",
   "id": "6835067b",
   "metadata": {},
   "source": [
    "Isso é feito com o seguinte código:"
   ]
  },
  {
   "cell_type": "code",
   "execution_count": 8,
   "id": "1ea40de6",
   "metadata": {},
   "outputs": [],
   "source": [
    "dev = qml.device('default.qubit',wires=4)\n",
    "def circuit(param, wires):\n",
    "    qml.BasisState(hf, wires=wires)\n",
    "    qml.DoubleExcitation(param[0], wires=[0, 1, 2, 3])\n",
    "    qml.SingleExcitation(param[1],wires=[0,2])\n",
    "    qml.SingleExcitation(param[2],wires=[0,3])\n",
    "    \n",
    "    \n",
    "dev = qml.device(\"default.qubit\", wires=qubits)\n",
    "\n",
    "@qml.qnode(dev)\n",
    "def cost_fn(param):\n",
    "    circuit(param, wires=range(qubits))\n",
    "    return qml.state()\n"
   ]
  },
  {
   "cell_type": "code",
   "execution_count": 9,
   "id": "6ef824a1",
   "metadata": {},
   "outputs": [
    {
     "name": "stdout",
     "output_type": "stream",
     "text": [
      "['0011', '0101', '0110', '1001', '1010', '1100']\n"
     ]
    }
   ],
   "source": [
    "param = np.random.random(3) # gera param aleatorios\n",
    "output = cost_fn(param) # executa a função cost_fn e retorna o estado |\\psi>\n",
    "\n",
    "# o código a seguir imprime o rótulo dos autovetores do estado |\\psi> \n",
    "states = [np.binary_repr(i, width=4) for i in range(len(output)) if output[i] != 0] \n",
    "print(states)\n"
   ]
  },
  {
   "cell_type": "code",
   "execution_count": 10,
   "id": "a90b64d4",
   "metadata": {},
   "outputs": [
    {
     "data": {
      "image/png": "[encoded data removed]",
      "text/plain": [
       "<Figure size 700x500 with 1 Axes>"
      ]
     },
     "metadata": {},
     "output_type": "display_data"
    }
   ],
   "source": [
    "fig, ax = qml.draw_mpl(cost_fn)(param)\n",
    "plt.show()"
   ]
  },
  {
   "cell_type": "markdown",
   "id": "bf754ffb",
   "metadata": {},
   "source": [
    "**OBS**: Apesar de a parametrização usada por este circuito ser mais expressiva do que a utilizada no código principal, aqui iremos considerar, por questões didáticas, a do código principal. Porém, um bom **exercício** é realizar as simulações utilizando essa parametrização mais expressiva."
   ]
  },
  {
   "cell_type": "markdown",
   "id": "294894aa",
   "metadata": {},
   "source": [
    "## 4 - Otimização\n",
    "\n",
    "Definidos o estado inicial $|\\psi_1 \\rangle$ e a parametrização $U$, tal que o estado evoluído $|\\psi\\rangle$ é descrito pela Eq. [10], devemos agora realizar as medições. Nesse caso, as medições consistem no cálculo do valor médio do Hamiltoniano descrito pela Eq. [8]. Isso é feito pela linha de comando ``return qml.expval(H)`` dentro da função ``cost_fn`` do nosso código principal.\n",
    "\n",
    "Ao realizarmos essa medição, obtemos o valor médio do Hamiltoniano. Porém, como o parâmetro $\\theta$ é inicialmente escolhido de forma “ingênua”, o valor médio calculado será diferente do valor mínimo desejado. Portanto, é necessário otimizar o parâmetro $\\theta$ para minimizar esse valor médio.\n",
    "\n",
    "Diversos métodos podem ser usados para essa otimização. Todavia, o mais comum é o método conhecido como **gradiente descendente**, que consiste em utilizar o gradiente do valor médio $\\langle H \\rangle_{\\psi_{\\theta}}$ — calculado pelo algoritmo quântico — para atualizar os parâmetros $\\theta$. Para isso, usamos a seguinte regra de otimização:\n",
    "\n",
    "$$\n",
    "\\theta_{t+1} = \\theta_{t} - \\eta \\nabla_{\\theta_{t}}\\langle H \\rangle_{\\psi_{\\theta_t}}. \\tag{21}\n",
    "$$\n",
    "\n",
    "\n",
    "No nosso código principal, esse processo de otimização é realizado pelo seguinte trecho do código:"
   ]
  },
  {
   "cell_type": "code",
   "execution_count": null,
   "id": "92aba503",
   "metadata": {},
   "outputs": [],
   "source": [
    "opt = qml.GradientDescentOptimizer(stepsize=0.1)\n",
    "theta = np.array(0.)\n",
    "energia = []\n",
    "for n in range(epocas):\n",
    "    theta, prev_energy = opt.step_and_cost(cost_fn, theta)\n",
    "    energia.append(prev_energy.item())\n"
   ]
  },
  {
   "cell_type": "markdown",
   "id": "8948ff39",
   "metadata": {},
   "source": [
    "## 5 - Valor médio em função da distância interatômica"
   ]
  },
  {
   "cell_type": "markdown",
   "id": "3a703ae8",
   "metadata": {},
   "source": [
    "Nosso código principal é usado para calcular a menor energia média $\\langle H \\rangle$ dada uma distância entre os núcleos atômicos. Portanto, para cada distância, usamos o mesmo código para calcular o menor valor de $\\langle H \\rangle$. O código a seguir utiliza nosso código principal para calcular o menor valor de $\\langle H \\rangle$ para diferentes distâncias $R$."
   ]
  },
  {
   "cell_type": "code",
   "execution_count": 21,
   "id": "b36abf19",
   "metadata": {},
   "outputs": [
    {
     "name": "stdout",
     "output_type": "stream",
     "text": [
      "\n",
      " Distância R = 0.0 \n",
      "\n",
      " Distância R = 0.1 \n",
      "\n",
      " Distância R = 0.2 \n",
      "\n",
      " Distância R = 0.3 \n",
      "\n",
      " Distância R = 0.4 \n",
      "\n",
      " Distância R = 0.5 \n",
      "\n",
      " Distância R = 0.6 \n",
      "\n",
      " Distância R = 0.7 \n",
      "\n",
      " Distância R = 0.8 \n",
      "\n",
      " Distância R = 0.9 \n",
      "\n",
      " Distância R = 1.0 \n",
      "\n",
      " Distância R = 1.1 \n",
      "\n",
      " Distância R = 1.2 \n",
      "\n",
      " Distância R = 1.3 \n",
      "\n",
      " Distância R = 1.4 \n",
      "\n",
      " Distância R = 1.5 \n",
      "\n",
      " Distância R = 1.6 \n",
      "\n",
      " Distância R = 1.7 \n",
      "\n",
      " Distância R = 1.8 \n",
      "\n",
      " Distância R = 1.9 \n",
      "\n",
      " Distância R = 2.0 \n",
      "\n",
      " Distância R = 2.1 \n",
      "\n",
      " Distância R = 2.2 \n",
      "\n",
      " Distância R = 2.3 \n",
      "\n",
      " Distância R = 2.4 \n",
      "\n",
      " Distância R = 2.5 \n",
      "\n",
      " Distância R = 2.6 \n",
      "\n",
      " Distância R = 2.7 \n",
      "\n",
      " Distância R = 2.8 \n",
      "\n",
      " Distância R = 2.9 \n",
      "\n",
      " Distância R = 3.0 \n",
      "\n",
      " Distância R = 3.1 \n",
      "\n",
      " Distância R = 3.2 \n",
      "\n",
      " Distância R = 3.3 \n",
      "\n",
      " Distância R = 3.4 \n",
      "\n",
      " Distância R = 3.5 \n",
      "\n",
      " Distância R = 3.6 \n",
      "\n",
      " Distância R = 3.7 \n",
      "\n",
      " Distância R = 3.8 \n",
      "\n",
      " Distância R = 3.9 \n",
      "\n",
      " Distância R = 4.0 \n",
      "\n",
      " Distância R = 4.1 \n",
      "\n",
      " Distância R = 4.2 \n",
      "\n",
      " Distância R = 4.3 \n",
      "\n",
      " Distância R = 4.4 \n",
      "\n",
      " Distância R = 4.5 \n",
      "\n",
      " Distância R = 4.6 \n",
      "\n",
      " Distância R = 4.7 \n",
      "\n",
      " Distância R = 4.8 \n",
      "\n",
      " Distância R = 4.9 \n",
      "\n",
      " Distância R = 5.0 \n",
      "\n",
      " Distância R = 5.1 \n",
      "\n",
      " Distância R = 5.2 \n",
      "\n",
      " Distância R = 5.3 \n",
      "\n",
      " Distância R = 5.4 \n",
      "\n",
      " Distância R = 5.5 \n",
      "\n",
      " Distância R = 5.6 \n",
      "\n",
      " Distância R = 5.7 \n",
      "\n",
      " Distância R = 5.8 \n",
      "\n",
      " Distância R = 5.9 \n"
     ]
    }
   ],
   "source": [
    "# Criamos um array R que representa várias distâncias entre os dois átomos de hidrogênio\n",
    "R = np.arange(0, 6, 0.1)\n",
    "\n",
    "# Lista para armazenar os valores mínimos de energia obtidos para cada distância R\n",
    "dataHist = []\n",
    "\n",
    "# Loop para calcular a energia do sistema em diferentes distâncias entre os átomos\n",
    "for k in range(len(R)):\n",
    "    # Pegamos a distância atual e arredondamos para 3 casas decimais para exibição\n",
    "    dd = round(R[k].item(), 3)\n",
    "    print('\\n Distância R = {} '.format(dd))\n",
    "\n",
    "    # Definimos os símbolos dos átomos que compõem a molécula (aqui dois átomos de hidrogênio)\n",
    "    symbols = [\"H\", \"H\"]\n",
    "\n",
    "    # Definimos a posição dos átomos no espaço 3D, aqui o segundo átomo está a distância R[k] no eixo z\n",
    "    x = np.array([[0.0, 0.0, 0], [0.0, 0.0, R[k]]])\n",
    "\n",
    "    # Calculamos o Hamiltoniano molecular (energia total do sistema em função dos qubits)\n",
    "    H, qubits = qml.qchem.molecular_hamiltonian(symbols, x)\n",
    "\n",
    "    # Número total de elétrons na molécula (H2 tem 2 elétrons)\n",
    "    electrons = 2\n",
    "\n",
    "    # Criamos o estado de Hartree-Fock (estado inicial aproximado) para o sistema\n",
    "    hf = qml.qchem.hf_state(electrons, qubits)\n",
    "\n",
    "    # Definimos o circuito quântico parametrizado que vamos otimizar\n",
    "    def circuit(theta, wires):\n",
    "        # Inicializamos o circuito no estado de Hartree-Fock\n",
    "        qml.BasisState(hf, wires=wires)\n",
    "        # Aplicamos uma porta de dupla excitação parametrizada pelo ângulo theta\n",
    "        qml.DoubleExcitation(theta, wires=[0, 1, 2, 3])\n",
    "\n",
    "    # Criamos o dispositivo quântico simulado para executar o circuito (com número de qubits calculado)\n",
    "    dev = qml.device(\"default.qubit\", wires=qubits)\n",
    "\n",
    "    # Definimos uma função quântica (QNode) que calcula o valor esperado da energia para dado theta\n",
    "    @qml.qnode(dev)\n",
    "    def cost_fn(theta):\n",
    "        # Executa o circuito parametrizado\n",
    "        circuit(theta, wires=range(qubits))\n",
    "        # Retorna o valor esperado do Hamiltoniano, que é a energia do sistema para o theta atual\n",
    "        return qml.expval(H)\n",
    "\n",
    "    # Número de épocas para o algoritmo de otimização (quantas vezes o parâmetro será ajustado)\n",
    "    epocas = 40\n",
    "\n",
    "    # Inicializamos o otimizador do gradiente com \\eta = 0.1\n",
    "    opt = qml.GradientDescentOptimizer(stepsize=0.1)\n",
    "\n",
    "    # Inicializamos o parâmetro theta (ângulo da porta de excitação) com zero. Aqui poderiamos usar outro valor.\n",
    "    theta = np.array(0.)\n",
    "\n",
    "    # Lista para guardar os valores de energia em cada época de otimização\n",
    "    energia = []\n",
    "\n",
    "    # Loop de otimização para ajustar theta e minimizar a energia\n",
    "    for n in range(epocas):\n",
    "        # Atualiza theta para tentar reduzir a energia; prev_energy é a energia antes da atualização\n",
    "        theta, prev_energy = opt.step_and_cost(cost_fn, theta)\n",
    "        # Guarda o valor da energia atual na lista\n",
    "        energia.append(prev_energy.item())\n",
    "\n",
    "    # Após otimizar, pegamos a energia mínima encontrada e armazenamos em dataHist\n",
    "    dataHist.append(np.min(energia))\n"
   ]
  },
  {
   "cell_type": "markdown",
   "id": "b656f812",
   "metadata": {},
   "source": [
    "A seguir, imprimimos o gráfico do menor valor de $\\langle H \\rangle$ para cada valor de $R$ considerado."
   ]
  },
  {
   "cell_type": "code",
   "execution_count": 23,
   "id": "09ea7137",
   "metadata": {
    "scrolled": false
   },
   "outputs": [
    {
     "data": {
      "image/png": "[encoded data removed]",
      "text/plain": [
       "<Figure size 640x480 with 1 Axes>"
      ]
     },
     "metadata": {},
     "output_type": "display_data"
    }
   ],
   "source": [
    "y = np.array(dataHist)\n",
    "plt.plot(R,y)\n",
    "plt.ylim(-1.2,1.2)\n",
    "plt.grid()\n",
    "plt.xlabel('Comprimento da ligação (R)')\n",
    "plt.ylabel('Energia total (hartree)')\n",
    "plt.show()"
   ]
  },
  {
   "cell_type": "markdown",
   "id": "5edbe597",
   "metadata": {},
   "source": [
    "Este gráfico está de acordo com o esperado. Ou seja, para $R \\longrightarrow 0$, temos que $\\langle H \\rangle \\longrightarrow \\infty$ devido à energia potencial de repulsão entre os átomos. Para $R \\longrightarrow \\infty$, $\\langle H \\rangle$ tende a uma constante, pois os dois átomos estarão suficientemente separados e não mais interagirão, comportando-se como dois átomos de hidrogênio isolados. Já para $R \\approx 1.4$, observamos a menor energia média, indicando o ponto de equilíbrio da molécula de hidrogênio."
   ]
  }
 ],
 "metadata": {
  "kernelspec": {
   "display_name": "Python 3 (ipykernel)",
   "language": "python",
   "name": "python3"
  },
  "language_info": {
   "codemirror_mode": {
    "name": "ipython",
    "version": 3
   },
   "file_extension": ".py",
   "mimetype": "text/x-python",
   "name": "python",
   "nbconvert_exporter": "python",
   "pygments_lexer": "ipython3",
   "version": "3.8.10"
  }
 },
 "nbformat": 4,
 "nbformat_minor": 5
}
